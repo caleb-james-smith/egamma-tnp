{
 "cells": [
  {
   "cell_type": "code",
   "execution_count": null,
   "id": "ac019152-3b1f-40e7-b09b-f40390052972",
   "metadata": {
    "tags": []
   },
   "outputs": [],
   "source": [
    "import os\n",
    "\n",
    "import awkward as ak\n",
    "import dask\n",
    "import dask_awkward as dak\n",
    "import hist\n",
    "import numpy as np\n",
    "from coffea.lumi_tools import LumiMask\n",
    "from coffea.nanoevents import NanoEventsFactory\n",
    "from distributed import Client\n",
    "from hist.dask import Hist"
   ]
  },
  {
   "cell_type": "code",
   "execution_count": null,
   "id": "21e12bb9-f129-46a4-bb25-553f13f286ca",
   "metadata": {
    "tags": []
   },
   "outputs": [],
   "source": [
    "ptbins = [\n",
    "    5,\n",
    "    10,\n",
    "    15,\n",
    "    20,\n",
    "    22,\n",
    "    26,\n",
    "    28,\n",
    "    30,\n",
    "    32,\n",
    "    34,\n",
    "    36,\n",
    "    38,\n",
    "    40,\n",
    "    45,\n",
    "    50,\n",
    "    60,\n",
    "    80,\n",
    "    100,\n",
    "    150,\n",
    "    250,\n",
    "    400,\n",
    "]"
   ]
  },
  {
   "cell_type": "code",
   "execution_count": null,
   "id": "53257a67",
   "metadata": {
    "tags": []
   },
   "outputs": [],
   "source": [
    "events = NanoEventsFactory.from_root(\n",
    "    {\"root_files/d45e45dd-5dd8-4cf3-a03a-141a6ff45d44.root\": \"Events\"},\n",
    "    permit_dask=True,\n",
    "    chunks_per_file=10,\n",
    ").events()"
   ]
  },
  {
   "cell_type": "code",
   "execution_count": null,
   "id": "a364c011-9b73-4376-8356-dddb27f3d7c4",
   "metadata": {
    "slideshow": {
     "slide_type": ""
    },
    "tags": []
   },
   "outputs": [],
   "source": [
    "def filter_events(events, pt):\n",
    "    events = events[dak.num(events.Electron) >= 2]\n",
    "    abs_eta = abs(events.Electron.eta)\n",
    "    pass_eta_ebeegap = (abs_eta < 1.4442) | (abs_eta > 1.566)\n",
    "    pass_tight_id = events.Electron.cutBased == 4\n",
    "    pass_pt = events.Electron.pt > pt\n",
    "    pass_eta = abs_eta <= 2.5\n",
    "    pass_selection = pass_pt & pass_eta & pass_eta_ebeegap & pass_tight_id\n",
    "    n_of_tags = dak.sum(pass_selection, axis=1)\n",
    "    good_events = events[n_of_tags >= 2]\n",
    "    good_locations = pass_selection[n_of_tags >= 2]\n",
    "\n",
    "    return good_events, good_locations\n",
    "\n",
    "\n",
    "def trigger_match(electrons, trigobjs, pt):\n",
    "    pass_pt = trigobjs.pt > pt\n",
    "    pass_id = abs(trigobjs.id) == 11\n",
    "    pass_wptight = trigobjs.filterBits & (0x1 << 1) == 2\n",
    "    trigger_cands = trigobjs[pass_pt & pass_id & pass_wptight]\n",
    "\n",
    "    delta_r = electrons.metric_table(trigger_cands)\n",
    "    pass_delta_r = delta_r < 0.1\n",
    "    n_of_trigger_matches = dak.sum(dak.sum(pass_delta_r, axis=1), axis=1)\n",
    "    trig_matched_locs = n_of_trigger_matches >= 1\n",
    "\n",
    "    return trig_matched_locs\n",
    "\n",
    "\n",
    "def find_probes(tags, probes, trigobjs, pt):\n",
    "    trig_matched_tag = trigger_match(tags, trigobjs, pt)\n",
    "    tags = tags[trig_matched_tag]\n",
    "    probes = probes[trig_matched_tag]\n",
    "    trigobjs = trigobjs[trig_matched_tag]\n",
    "\n",
    "    dr = tags.delta_r(probes)\n",
    "    mass = (tags + probes).mass\n",
    "\n",
    "    in_mass_window = abs(mass - 91.1876) < 30\n",
    "    opposite_charge = tags.charge * probes.charge == -1\n",
    "\n",
    "    isZ = in_mass_window & opposite_charge\n",
    "    dr_condition = dr > 0.0\n",
    "\n",
    "    all_probes = probes[isZ & dr_condition]\n",
    "    trig_matched_probe = trigger_match(all_probes, trigobjs, pt)\n",
    "    passing_probes = all_probes[trig_matched_probe]\n",
    "\n",
    "    return passing_probes, all_probes\n",
    "\n",
    "\n",
    "def perform_tnp(events, pt=32):\n",
    "    good_events, good_locations = filter_events(events, pt)\n",
    "    ele_for_tnp = good_events.Electron[good_locations]\n",
    "\n",
    "    zcands1 = dak.combinations(ele_for_tnp, 2, fields=[\"tag\", \"probe\"])\n",
    "    zcands2 = dak.combinations(ele_for_tnp, 2, fields=[\"probe\", \"tag\"])\n",
    "    p1, a1 = find_probes(zcands1.tag, zcands1.probe, good_events.TrigObj, pt)\n",
    "    p2, a2 = find_probes(zcands2.tag, zcands2.probe, good_events.TrigObj, pt)\n",
    "\n",
    "    return p1, a1, p2, a2"
   ]
  },
  {
   "cell_type": "code",
   "execution_count": null,
   "id": "43aa5ac6",
   "metadata": {
    "tags": []
   },
   "outputs": [],
   "source": [
    "p1, a1, p2, a2 = perform_tnp(events)\n",
    "\n",
    "ptaxis = hist.axis.Variable(ptbins, name=\"pt\")\n",
    "hpt_all = Hist(ptaxis)\n",
    "hpt_pass = Hist(ptaxis)\n",
    "\n",
    "hpt_all.fill(dak.flatten(a1.pt))\n",
    "hpt_pass.fill(dak.flatten(p1.pt))\n",
    "\n",
    "hpt_all.fill(dak.flatten(a2.pt))\n",
    "hpt_pass.fill(dak.flatten(p2.pt))\n",
    "\n",
    "client = Client()\n",
    "tmp1 = dask.compute(hpt_all, hpt_pass)\n",
    "tmp2 = dask.compute(hpt_all, hpt_pass)\n",
    "tmp3 = dask.compute(hpt_all, hpt_pass)\n",
    "tmp4 = dask.compute(hpt_all, hpt_pass)\n",
    "\n",
    "for tmp in [tmp1, tmp2, tmp3, tmp4]:\n",
    "    print(tmp[0].values(flow=True))\n",
    "    print(tmp[1].sum(flow=True))\n",
    "    print()"
   ]
  },
  {
   "cell_type": "code",
   "execution_count": null,
   "id": "8196918d-c96d-4425-8ddc-5680815b4cb2",
   "metadata": {},
   "outputs": [],
   "source": []
  }
 ],
 "metadata": {
  "kernelspec": {
   "display_name": "Python 3 (ipykernel)",
   "language": "python",
   "name": "python3"
  },
  "language_info": {
   "codemirror_mode": {
    "name": "ipython",
    "version": 3
   },
   "file_extension": ".py",
   "mimetype": "text/x-python",
   "name": "python",
   "nbconvert_exporter": "python",
   "pygments_lexer": "ipython3",
   "version": "3.10.12"
  }
 },
 "nbformat": 4,
 "nbformat_minor": 5
}
