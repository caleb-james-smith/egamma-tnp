{
 "cells": [
  {
   "cell_type": "code",
   "execution_count": null,
   "id": "ac019152-3b1f-40e7-b09b-f40390052972",
   "metadata": {},
   "outputs": [],
   "source": [
    "from matplotlib import pyplot as plt\n",
    "from distributed import Client\n",
    "\n",
    "from egamma_tnp import TagNProbe\n",
    "from egamma_tnp.utils import get_ratio_histograms, replace_nans"
   ]
  },
  {
   "cell_type": "code",
   "execution_count": null,
   "id": "21e12bb9-f129-46a4-bb25-553f13f286ca",
   "metadata": {},
   "outputs": [],
   "source": [
    "plt.rcParams.update(\n",
    "    {\n",
    "        \"text.usetex\": True,\n",
    "        \"font.family\": \"serif\",\n",
    "        \"font.serif\": [\"Palatino\"],\n",
    "        \"xtick.labelsize\": 18,\n",
    "        \"ytick.labelsize\": 18,\n",
    "        \"legend.numpoints\": 1,\n",
    "        \"axes.linewidth\": 2,\n",
    "        \"legend.title_fontsize\": 16,\n",
    "        \"axes.labelsize\": 18,\n",
    "        \"legend.fontsize\": 16,\n",
    "    }\n",
    ")"
   ]
  },
  {
   "cell_type": "code",
   "execution_count": null,
   "id": "af0fcf1d",
   "metadata": {
    "scrolled": false
   },
   "outputs": [],
   "source": [
    "%%time\n",
    "# tag_n_probe = TagNProbe(\n",
    "#     \"/EGamma*/Run2023C-PromptNanoAODv12_v3-v1/NANOAOD\",\n",
    "#     goldenjson=\"json/Cert_Collisions2023_366442_368823_Golden.json\",\n",
    "#     redirector=\"root://cmsxrootd.fnal.gov/\",\n",
    "#     invalid=True,\n",
    "# )\n",
    "tag_n_probe = TagNProbe(\n",
    "    \"root_files/Egamma0.root\",\n",
    "    \"root_files/Egamma1.root\",\n",
    "    local=True,\n",
    "    goldenjson=\"json/Cert_Collisions2023_366442_368823_Golden.json\",\n",
    ")"
   ]
  },
  {
   "cell_type": "code",
   "execution_count": null,
   "id": "43aa5ac6",
   "metadata": {},
   "outputs": [],
   "source": [
    "%%time\n",
    "\n",
    "with Client() as client:\n",
    "    (\n",
    "        hpt_all,\n",
    "        hpt_pass,\n",
    "        heta_all,\n",
    "        heta_pass,\n",
    "        habseta_all,\n",
    "        habseta_pass,\n",
    "    ) = tag_n_probe.get_tnp_histograms(compute=True, scheduler=None, progress=True)\n",
    "\n",
    "hptratio, hetaratio, habsetaratio = get_ratio_histograms(\n",
    "    hpt_all, hpt_pass, heta_all, heta_pass, habseta_all, habseta_pass\n",
    ")\n",
    "\n",
    "print(f\"Passing probes: {hpt_pass.sum(flow=True)}\")\n",
    "print(f\"All probes: {hpt_all.sum(flow=True)}\")"
   ]
  },
  {
   "cell_type": "code",
   "execution_count": null,
   "id": "dc7ff5b8-3451-4e73-8310-85e1a350b5f1",
   "metadata": {},
   "outputs": [],
   "source": [
    "plt.figure(figsize=(6.4 * 1.5, 4.8 * 1.5))\n",
    "hpt_all.plot1d(label=\"all probes\")\n",
    "hpt_pass.plot1d(label=\"passing probes\")\n",
    "plt.legend()\n",
    "plt.savefig(\"plots/pt.pdf\", bbox_inches=\"tight\")\n",
    "plt.show()"
   ]
  },
  {
   "cell_type": "code",
   "execution_count": null,
   "id": "8daaba11-6bd4-421b-9e1d-cf959e44e40a",
   "metadata": {},
   "outputs": [],
   "source": [
    "plt.figure(figsize=(6.4 * 1.5, 4.8 * 1.5))\n",
    "heta_all.plot1d(label=\"all probes\")\n",
    "heta_pass.plot1d(label=\"passing probes\")\n",
    "plt.legend()\n",
    "plt.savefig(\"plots/eta.pdf\", bbox_inches=\"tight\")\n",
    "plt.show()"
   ]
  },
  {
   "cell_type": "code",
   "execution_count": null,
   "id": "90951bc1",
   "metadata": {},
   "outputs": [],
   "source": [
    "plt.figure(figsize=(6.4 * 1.5, 4.8 * 1.5))\n",
    "habseta_all.plot1d(label=\"all probes\")\n",
    "habseta_pass.plot1d(label=\"passing probes\")\n",
    "plt.legend()\n",
    "plt.savefig(\"plots/abseta.pdf\", bbox_inches=\"tight\")\n",
    "plt.show()"
   ]
  },
  {
   "cell_type": "code",
   "execution_count": null,
   "id": "594f919b",
   "metadata": {},
   "outputs": [],
   "source": [
    "plt.figure(figsize=(6.4 * 1.5, 4.8 * 1.5))\n",
    "hptratio.plot1d()\n",
    "plt.xlim(5, 400)\n",
    "plt.xscale(\"log\")\n",
    "plt.savefig(\"plots/eff_pt.pdf\", bbox_inches=\"tight\")\n",
    "plt.show()"
   ]
  },
  {
   "cell_type": "code",
   "execution_count": null,
   "id": "c1ca0fa4",
   "metadata": {},
   "outputs": [],
   "source": [
    "plt.figure(figsize=(6.4 * 1.5, 4.8 * 1.5))\n",
    "hetaratio.plot1d()\n",
    "plt.xlim(-2.5, 2.5)\n",
    "plt.savefig(\"plots/eff_eta.pdf\", bbox_inches=\"tight\")\n",
    "plt.show()"
   ]
  },
  {
   "cell_type": "code",
   "execution_count": null,
   "id": "f9ba1bbc",
   "metadata": {},
   "outputs": [],
   "source": [
    "plt.figure(figsize=(6.4 * 1.5, 4.8 * 1.5))\n",
    "habsetaratio.plot1d()\n",
    "plt.xlim(0, 2.5)\n",
    "plt.savefig(\"plots/eff_abseta.pdf\", bbox_inches=\"tight\")\n",
    "plt.show()"
   ]
  }
 ],
 "metadata": {
  "kernelspec": {
   "display_name": "Python 3 (ipykernel)",
   "language": "python",
   "name": "python3"
  },
  "language_info": {
   "codemirror_mode": {
    "name": "ipython",
    "version": 3
   },
   "file_extension": ".py",
   "mimetype": "text/x-python",
   "name": "python",
   "nbconvert_exporter": "python",
   "pygments_lexer": "ipython3",
   "version": "3.10.12"
  }
 },
 "nbformat": 4,
 "nbformat_minor": 5
}
