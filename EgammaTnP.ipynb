{
 "cells": [
  {
   "cell_type": "code",
   "execution_count": 1,
   "id": "ac019152-3b1f-40e7-b09b-f40390052972",
   "metadata": {},
   "outputs": [],
   "source": [
    "import numpy as np\n",
    "import awkward as ak\n",
    "import uproot\n",
    "import os\n",
    "import time\n",
    "\n",
    "from matplotlib import pyplot as plt\n",
    "import hist\n",
    "from hist import Hist\n",
    "\n",
    "from coffea.nanoevents import NanoAODSchema, NanoEventsFactory"
   ]
  },
  {
   "cell_type": "code",
   "execution_count": 2,
   "id": "21e12bb9-f129-46a4-bb25-553f13f286ca",
   "metadata": {},
   "outputs": [],
   "source": [
    "plt.rcParams.update(\n",
    "    {\n",
    "        \"text.usetex\": True,\n",
    "        \"font.family\": \"serif\",\n",
    "        \"font.serif\": [\"Palatino\"],\n",
    "        \"xtick.labelsize\": 18,\n",
    "        \"ytick.labelsize\": 18,\n",
    "        \"legend.numpoints\": 1,\n",
    "        \"axes.linewidth\": 2,\n",
    "        \"legend.title_fontsize\": 16,\n",
    "        \"axes.labelsize\": 18,\n",
    "        \"legend.fontsize\": 16,\n",
    "    }\n",
    ")\n",
    "\n",
    "ptbins = [\n",
    "    5,\n",
    "    10,\n",
    "    12.5,\n",
    "    15,\n",
    "    17.5,\n",
    "    20,\n",
    "    22.5,\n",
    "    25,\n",
    "    30,\n",
    "    35,\n",
    "    40,\n",
    "    45,\n",
    "    50,\n",
    "    60,\n",
    "    80,\n",
    "    100,\n",
    "    150,\n",
    "    200,\n",
    "    250,\n",
    "    300,\n",
    "    350,\n",
    "    400,\n",
    "]\n",
    "etabins = [\n",
    "    -2.5,\n",
    "    -2.4,\n",
    "    -2.3,\n",
    "    -2.2,\n",
    "    -2.1,\n",
    "    -2.0,\n",
    "    -1.9,\n",
    "    -1.8,\n",
    "    -1.7,\n",
    "    -1.566,\n",
    "    -1.4442,\n",
    "    -1.3,\n",
    "    -1.2,\n",
    "    -1.1,\n",
    "    -1.0,\n",
    "    -0.9,\n",
    "    -0.8,\n",
    "    -0.7,\n",
    "    -0.6,\n",
    "    -0.5,\n",
    "    -0.4,\n",
    "    -0.3,\n",
    "    -0.2,\n",
    "    -0.1,\n",
    "    0,\n",
    "    0.1,\n",
    "    0.2,\n",
    "    0.3,\n",
    "    0.4,\n",
    "    0.5,\n",
    "    0.6,\n",
    "    0.7,\n",
    "    0.8,\n",
    "    0.9,\n",
    "    1,\n",
    "    1.1,\n",
    "    1.2,\n",
    "    1.3,\n",
    "    1.4442,\n",
    "    1.566,\n",
    "    1.7,\n",
    "    1.8,\n",
    "    1.9,\n",
    "    2.0,\n",
    "    2.1,\n",
    "    2.2,\n",
    "    2.3,\n",
    "    2.4,\n",
    "    2.5,\n",
    "]"
   ]
  },
  {
   "cell_type": "code",
   "execution_count": 3,
   "id": "53257a67",
   "metadata": {},
   "outputs": [
    {
     "name": "stdout",
     "output_type": "stream",
     "text": [
      "542854\n",
      "CPU times: user 40.5 s, sys: 2.43 s, total: 42.9 s\n",
      "Wall time: 40.8 s\n"
     ]
    }
   ],
   "source": [
    "%%time\n",
    "fname = \"root_files/Egamma0.root\"\n",
    "events = NanoEventsFactory.from_root(\n",
    "    {os.path.abspath(fname): \"Events\"},\n",
    "    schemaclass=NanoAODSchema.v6,\n",
    "    metadata={\"dataset\": \"Egamma\"},\n",
    ").events()\n",
    "\n",
    "print(len(events))"
   ]
  },
  {
   "cell_type": "code",
   "execution_count": 4,
   "id": "a364c011-9b73-4376-8356-dddb27f3d7c4",
   "metadata": {},
   "outputs": [],
   "source": [
    "def filter_events(events):\n",
    "    events = events[ak.num(events.Electron) >= 2]\n",
    "    abs_eta = abs(events.Electron.eta)\n",
    "    pass_eta_ebeegap = (abs_eta < 1.4442) | (abs_eta > 1.566)\n",
    "    pass_tight_id = events.Electron.cutBased == 4\n",
    "    pass_pt = events.Electron.pt > 31\n",
    "    pass_eta = abs_eta <= 2.5\n",
    "    pass_selection = pass_pt & pass_eta & pass_eta_ebeegap & pass_tight_id\n",
    "    n_of_tags = ak.sum(pass_selection, axis=1)\n",
    "    good_events = events[n_of_tags >= 2]\n",
    "    good_locations = pass_selection[n_of_tags >= 2]\n",
    "\n",
    "    return good_events, good_locations\n",
    "\n",
    "\n",
    "def trigger_match(electrons, trigobjs):\n",
    "    pass_pt = trigobjs.pt > 31\n",
    "    pass_id = abs(trigobjs.id) == 11\n",
    "    pass_wptight = trigobjs.filterBits & (0x1 << 1) == 2\n",
    "    trigger_cands = trigobjs[pass_pt & pass_id & pass_wptight]\n",
    "\n",
    "    nearest_match = electrons.nearest(trigger_cands, threshold=0.1)\n",
    "    n_of_trigger_matches = ak.sum(nearest_match.eta != None, axis=1)\n",
    "    trig_matched_locs = n_of_trigger_matches >= 1\n",
    "\n",
    "    return trig_matched_locs\n",
    "\n",
    "\n",
    "def perform_tnp(zcands, events):\n",
    "    trig_matched_tag = trigger_match(zcands.tag, events.TrigObj)\n",
    "    zcands = zcands[trig_matched_tag]\n",
    "    events = events[trig_matched_tag]\n",
    "\n",
    "    dr = zcands.tag.delta_r(zcands.probe)\n",
    "    mass = (zcands.tag + zcands.probe).mass\n",
    "\n",
    "    in_mass_window = abs(mass - 91.1876) < 30\n",
    "    opposite_charge = zcands.tag.charge * zcands.probe.charge == -1\n",
    "\n",
    "    isZ = in_mass_window & opposite_charge\n",
    "    dr_condition = dr > 0.0\n",
    "\n",
    "    all_probes = zcands.probe[isZ & dr_condition]\n",
    "    trig_matched_probe = trigger_match(all_probes, events.TrigObj)\n",
    "    passing_probes = all_probes[trig_matched_probe]\n",
    "\n",
    "    return passing_probes, all_probes\n",
    "\n",
    "\n",
    "def replace_nans(arr):\n",
    "    arr = np.array(arr)\n",
    "\n",
    "    # Find the index of first non-nan value\n",
    "    first_float_index = np.where(~np.isnan(arr))[0][0]\n",
    "\n",
    "    # Create masks for before and after the first float\n",
    "    before_first_float = np.arange(len(arr)) < first_float_index\n",
    "    after_first_float = ~before_first_float\n",
    "\n",
    "    # Replace all nans with 0 before first float number and with 1 after\n",
    "    arr[before_first_float & np.isnan(arr)] = 0\n",
    "    arr[after_first_float & np.isnan(arr)] = 1\n",
    "\n",
    "    return arr"
   ]
  },
  {
   "cell_type": "code",
   "execution_count": 5,
   "id": "3cabf744",
   "metadata": {},
   "outputs": [
    {
     "name": "stdout",
     "output_type": "stream",
     "text": [
      "4845\n",
      "6974\n",
      "7830\n",
      "0.26249812499736436\n"
     ]
    }
   ],
   "source": [
    "start = time.perf_counter()\n",
    "\n",
    "good_events, good_locations = filter_events(events)\n",
    "\n",
    "ele_for_tnp = good_events.Electron[good_locations]\n",
    "print(len(ele_for_tnp))\n",
    "\n",
    "zcands1 = ak.combinations(ele_for_tnp, 2, fields=[\"tag\", \"probe\"])\n",
    "zcands2 = ak.combinations(ele_for_tnp, 2, fields=[\"probe\", \"tag\"])\n",
    "p1, a1 = perform_tnp(zcands2, good_events)\n",
    "p2, a2 = perform_tnp(zcands2, good_events)\n",
    "\n",
    "passing_probes = ak.concatenate([p1, p2])\n",
    "all_probes = ak.concatenate([a1, a2])\n",
    "print(len(ak.flatten(passing_probes)))\n",
    "print(len(ak.flatten(all_probes)))\n",
    "\n",
    "end = time.perf_counter()\n",
    "print(end - start)"
   ]
  },
  {
   "cell_type": "code",
   "execution_count": 6,
   "id": "4a340cb6-6eae-46ca-8bb2-1da3b01b3ed5",
   "metadata": {},
   "outputs": [],
   "source": [
    "ptaxis = hist.axis.Variable(ptbins, name=\"pt\")\n",
    "hpt_all = Hist(ptaxis)\n",
    "hpt_pass = Hist(ptaxis)\n",
    "\n",
    "etaaxis = hist.axis.Variable(etabins, name=\"eta\")\n",
    "heta_all = Hist(etaaxis)\n",
    "heta_pass = Hist(etaaxis)\n",
    "\n",
    "hpt_all.fill(ak.flatten(all_probes.pt))\n",
    "hpt_pass.fill(ak.flatten(passing_probes.pt))\n",
    "\n",
    "heta_all.fill(ak.flatten(all_probes.eta))\n",
    "heta_pass.fill(ak.flatten(passing_probes.eta));"
   ]
  },
  {
   "cell_type": "code",
   "execution_count": 7,
   "id": "dc7ff5b8-3451-4e73-8310-85e1a350b5f1",
   "metadata": {},
   "outputs": [
    {
     "data": {
      "image/png": "[encoded data removed]",
      "text/plain": [
       "<Figure size 1200x800 with 1 Axes>"
      ]
     },
     "metadata": {},
     "output_type": "display_data"
    }
   ],
   "source": [
    "plt.figure(figsize=(12, 8))\n",
    "hpt_all.plot1d(label=\"all probes\")\n",
    "hpt_pass.plot1d(label=\"passing probes\")\n",
    "plt.legend()\n",
    "plt.savefig(\"pt.pdf\")\n",
    "plt.show()"
   ]
  },
  {
   "cell_type": "code",
   "execution_count": 8,
   "id": "8daaba11-6bd4-421b-9e1d-cf959e44e40a",
   "metadata": {},
   "outputs": [
    {
     "data": {
      "image/png": "[encoded data removed]",
      "text/plain": [
       "<Figure size 1200x800 with 1 Axes>"
      ]
     },
     "metadata": {},
     "output_type": "display_data"
    }
   ],
   "source": [
    "plt.figure(figsize=(12, 8))\n",
    "heta_all.plot1d(label=\"all probes\")\n",
    "heta_pass.plot1d(label=\"passing probes\")\n",
    "plt.legend()\n",
    "plt.savefig(\"eta.pdf\")\n",
    "plt.show()"
   ]
  },
  {
   "cell_type": "code",
   "execution_count": 9,
   "id": "e6b36896-0ac2-41a1-9c2f-0f3fef16095e",
   "metadata": {},
   "outputs": [
    {
     "name": "stderr",
     "output_type": "stream",
     "text": [
      "/var/folders/2c/94kt72fs0_q_9nzr2y5jphb00000gn/T/ipykernel_1540/3574211039.py:1: RuntimeWarning: invalid value encountered in divide\n",
      "  ratio = replace_nans(hpt_pass.values() / hpt_all.values())\n"
     ]
    }
   ],
   "source": [
    "ratio = replace_nans(hpt_pass.values() / hpt_all.values())"
   ]
  },
  {
   "cell_type": "code",
   "execution_count": 10,
   "id": "6f43d14b-4471-4ae1-a20b-828c5915da25",
   "metadata": {},
   "outputs": [
    {
     "data": {
      "image/png": "[encoded data removed]",
      "text/plain": [
       "<Figure size 640x480 with 1 Axes>"
      ]
     },
     "metadata": {},
     "output_type": "display_data"
    }
   ],
   "source": [
    "plt.stairs(ratio, ptbins)\n",
    "plt.xlim(5, 400)\n",
    "plt.xscale(\"log\")"
   ]
  },
  {
   "cell_type": "code",
   "execution_count": null,
   "id": "28ac6f53",
   "metadata": {},
   "outputs": [],
   "source": []
  }
 ],
 "metadata": {
  "kernelspec": {
   "display_name": "Python 3 (ipykernel)",
   "language": "python",
   "name": "python3"
  },
  "language_info": {
   "codemirror_mode": {
    "name": "ipython",
    "version": 3
   },
   "file_extension": ".py",
   "mimetype": "text/x-python",
   "name": "python",
   "nbconvert_exporter": "python",
   "pygments_lexer": "ipython3",
   "version": "3.10.12"
  }
 },
 "nbformat": 4,
 "nbformat_minor": 5
}
