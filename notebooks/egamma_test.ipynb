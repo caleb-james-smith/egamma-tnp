{
 "cells": [
  {
   "cell_type": "code",
   "execution_count": 1,
   "id": "0f355740-90a8-4fc0-9347-41179e402c5b",
   "metadata": {},
   "outputs": [],
   "source": [
    "# import packages\n",
    "\n",
    "import dask_awkward as dak\n",
    "import numpy as np\n",
    "from coffea.dataset_tools import preprocess\n",
    "from distributed import Client\n",
    "from matplotlib import pyplot as plt\n",
    "\n",
    "import egamma_tnp\n",
    "from egamma_tnp import ElectronTagNProbeFromNanoAOD, ElectronTagNProbeFromNTuples\n",
    "from egamma_tnp.plot import plot_efficiency"
   ]
  },
  {
   "cell_type": "code",
   "execution_count": 3,
   "id": "4be49408-0198-4a0e-87f9-4c028ace700b",
   "metadata": {},
   "outputs": [
    {
     "name": "stderr",
     "output_type": "stream",
     "text": [
      "/usr/local/lib/python3.11/site-packages/distributed/node.py:182: UserWarning: Port 8787 is already in use.\n",
      "Perhaps you already have a cluster running?\n",
      "Hosting the HTTP server on port 45551 instead\n",
      "  warnings.warn(\n"
     ]
    }
   ],
   "source": [
    "# start client\n",
    "client = Client()"
   ]
  },
  {
   "cell_type": "code",
   "execution_count": 5,
   "id": "0fcc6837-a3e6-4e19-9cee-3f61ba24d78f",
   "metadata": {},
   "outputs": [
    {
     "name": "stdout",
     "output_type": "stream",
     "text": [
      "{'samples': {'files': {'../root_files/Data_Run2023C_EGamma0_NANOAOD_22Sep2023_v1-v1_001.root': 'Events'}}}\n"
     ]
    }
   ],
   "source": [
    "# define datasets\n",
    "\n",
    "fileset = {\n",
    "    \"samples\": {\n",
    "        \"files\": {\n",
    "            \"../root_files/Data_Run2023C_EGamma0_NANOAOD_22Sep2023_v1-v1_001.root\": \"Events\",\n",
    "        }\n",
    "    }\n",
    "}\n",
    "\n",
    "print(fileset)\n",
    "\n",
    "fileset_available, fileset_updates = preprocess(fileset, skip_bad_files=True, step_size=500_000)"
   ]
  },
  {
   "cell_type": "code",
   "execution_count": 6,
   "id": "286a072d-98b6-4a29-a1eb-694c8327809f",
   "metadata": {},
   "outputs": [],
   "source": [
    "# initialize tag and probe class\n",
    "\n",
    "tnp = ElectronTagNProbeFromNanoAOD(\n",
    "    fileset_available,\n",
    "    filters=[\"\"],\n",
    "    filterbit=[1],\n",
    "    tags_pt_cut=30,\n",
    "    use_sc_eta=True,\n",
    "    tags_abseta_cut=2.50,\n",
    "    probes_pt_cut=27,\n",
    "    trigger_pt=[30],\n",
    ")\n",
    "\n",
    "egamma_tnp.binning.set(\"MET_pt_bins\", np.linspace(0, 200, 21).tolist())\n",
    "egamma_tnp.binning.set(\"luminosityBlock_bins\", np.linspace(0, 1000, 11).tolist())\n",
    "egamma_tnp.binning.set(\"tag_Ele_pt_bins\", egamma_tnp.binning.get(\"pt_bins\"))\n",
    "egamma_tnp.binning.set(\"Electron_pt_bins\", egamma_tnp.binning.get(\"pt_bins\"))"
   ]
  },
  {
   "cell_type": "code",
   "execution_count": 8,
   "id": "dcd388d0-0d51-4cfe-952a-5330aa1d95c7",
   "metadata": {},
   "outputs": [
    {
     "ename": "SyntaxError",
     "evalue": "invalid syntax (<string>, line 1)",
     "output_type": "error",
     "traceback": [
      "Traceback \u001b[0;36m(most recent call last)\u001b[0m:\n",
      "\u001b[0m  File \u001b[1;32m/usr/local/lib/python3.11/site-packages/IPython/core/interactiveshell.py:3577\u001b[0m in \u001b[1;35mrun_code\u001b[0m\n    exec(code_obj, self.user_global_ns, self.user_ns)\u001b[0m\n",
      "\u001b[0m  Cell \u001b[1;32mIn[8], line 2\u001b[0m\n    out = tnp.get_tnp_arrays(cut_and_count=True, vars=[\"Electron_pt\", \"tag_Ele_eta\", \"el_pt\", \"el_eta\", \"MET_pt\", \"luminosityBlock\"], compute=True)\u001b[0m\n",
      "\u001b[0m  File \u001b[1;32m/srv/.env/lib/python3.11/site-packages/egamma_tnp/_base_tagnprobe.py:175\u001b[0m in \u001b[1;35mget_tnp_arrays\u001b[0m\n    to_compute = apply_to_fileset(\u001b[0m\n",
      "\u001b[0m  File \u001b[1;32m/usr/local/lib/python3.11/site-packages/coffea/dataset_tools/apply_processor.py:125\u001b[0m in \u001b[1;35mapply_to_fileset\u001b[0m\n    dataset_out = apply_to_dataset(\u001b[0m\n",
      "\u001b[0m  File \u001b[1;32m/usr/local/lib/python3.11/site-packages/coffea/dataset_tools/apply_processor.py:83\u001b[0m in \u001b[1;35mapply_to_dataset\u001b[0m\n    out = data_manipulation(events)\u001b[0m\n",
      "\u001b[0m  File \u001b[1;32m/srv/.env/lib/python3.11/site-packages/egamma_tnp/nanoaod_efficiency.py:208\u001b[0m in \u001b[1;35mfind_probes\u001b[0m\n    passing_locs, all_probe_events = ElectronTagNProbeFromNanoAOD._process_zcands(\u001b[0m\n",
      "\u001b[0;36m  File \u001b[0;32m/srv/.env/lib/python3.11/site-packages/egamma_tnp/nanoaod_efficiency.py:360\u001b[0;36m in \u001b[0;35m_process_zcands\u001b[0;36m\n\u001b[0;31m    is_passing_probe = eval(f\"zcands.probe.{filter}\")\u001b[0;36m\n",
      "\u001b[0;36m  File \u001b[0;32m<string>:1\u001b[0;36m\u001b[0m\n\u001b[0;31m    zcands.probe.\u001b[0m\n\u001b[0m                ^\u001b[0m\n\u001b[0;31mSyntaxError\u001b[0m\u001b[0;31m:\u001b[0m invalid syntax\n"
     ]
    }
   ],
   "source": [
    "# get arrays\n",
    "out = tnp.get_tnp_arrays(cut_and_count=True, vars=[\"Electron_pt\", \"tag_Ele_eta\", \"el_pt\", \"el_eta\", \"MET_pt\", \"luminosityBlock\"], compute=True)"
   ]
  },
  {
   "cell_type": "code",
   "execution_count": null,
   "id": "595608ab-a2e3-45c4-afe1-8b5fca408f6d",
   "metadata": {},
   "outputs": [],
   "source": []
  }
 ],
 "metadata": {
  "kernelspec": {
   "display_name": "Python 3 (ipykernel)",
   "language": "python",
   "name": "python3"
  },
  "language_info": {
   "codemirror_mode": {
    "name": "ipython",
    "version": 3
   },
   "file_extension": ".py",
   "mimetype": "text/x-python",
   "name": "python",
   "nbconvert_exporter": "python",
   "pygments_lexer": "ipython3",
   "version": "3.11.9"
  }
 },
 "nbformat": 4,
 "nbformat_minor": 5
}
