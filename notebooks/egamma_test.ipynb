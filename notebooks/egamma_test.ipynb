{
 "cells": [
  {
   "cell_type": "code",
   "execution_count": 1,
   "id": "0f355740-90a8-4fc0-9347-41179e402c5b",
   "metadata": {},
   "outputs": [],
   "source": [
    "# import packages\n",
    "\n",
    "import dask_awkward as dak\n",
    "import numpy as np\n",
    "from coffea.dataset_tools import preprocess\n",
    "from distributed import Client\n",
    "from matplotlib import pyplot as plt\n",
    "\n",
    "import egamma_tnp\n",
    "from egamma_tnp import ElectronTagNProbeFromNanoAOD, ElectronTagNProbeFromNTuples\n",
    "from egamma_tnp.plot import plot_efficiency"
   ]
  },
  {
   "cell_type": "code",
   "execution_count": 3,
   "id": "4be49408-0198-4a0e-87f9-4c028ace700b",
   "metadata": {},
   "outputs": [
    {
     "name": "stderr",
     "output_type": "stream",
     "text": [
      "/usr/local/lib/python3.11/site-packages/distributed/node.py:182: UserWarning: Port 8787 is already in use.\n",
      "Perhaps you already have a cluster running?\n",
      "Hosting the HTTP server on port 45551 instead\n",
      "  warnings.warn(\n"
     ]
    }
   ],
   "source": [
    "# start client\n",
    "client = Client()"
   ]
  },
  {
   "cell_type": "code",
   "execution_count": 5,
   "id": "0fcc6837-a3e6-4e19-9cee-3f61ba24d78f",
   "metadata": {},
   "outputs": [
    {
     "name": "stdout",
     "output_type": "stream",
     "text": [
      "{'samples': {'files': {'../root_files/Data_Run2023C_EGamma0_NANOAOD_22Sep2023_v1-v1_001.root': 'Events'}}}\n"
     ]
    }
   ],
   "source": [
    "# define datasets\n",
    "\n",
    "fileset = {\n",
    "    \"samples\": {\n",
    "        \"files\": {\n",
    "            \"../root_files/Data_Run2023C_EGamma0_NANOAOD_22Sep2023_v1-v1_001.root\": \"Events\",\n",
    "        }\n",
    "    }\n",
    "}\n",
    "\n",
    "print(fileset)\n",
    "\n",
    "fileset_available, fileset_updates = preprocess(fileset, skip_bad_files=True, step_size=500_000)"
   ]
  },
  {
   "cell_type": "code",
   "execution_count": 17,
   "id": "286a072d-98b6-4a29-a1eb-694c8327809f",
   "metadata": {},
   "outputs": [],
   "source": [
    "# initialize tag and probe class\n",
    "\n",
    "tnp = ElectronTagNProbeFromNanoAOD(\n",
    "    fileset_available,\n",
    "    filters=[\"HLT_Ele30_WPTight_Gsf\"],\n",
    "    filterbit=[1],\n",
    "    tags_pt_cut=30,\n",
    "    use_sc_eta=True,\n",
    "    tags_abseta_cut=2.50,\n",
    "    probes_pt_cut=27,\n",
    "    trigger_pt=[30],\n",
    ")\n",
    "\n",
    "egamma_tnp.binning.set(\"MET_pt_bins\", np.linspace(0, 200, 21).tolist())\n",
    "egamma_tnp.binning.set(\"luminosityBlock_bins\", np.linspace(0, 1000, 11).tolist())\n",
    "egamma_tnp.binning.set(\"tag_Ele_pt_bins\", egamma_tnp.binning.get(\"pt_bins\"))\n",
    "egamma_tnp.binning.set(\"Electron_pt_bins\", egamma_tnp.binning.get(\"pt_bins\"))"
   ]
  },
  {
   "cell_type": "code",
   "execution_count": 15,
   "id": "dcd388d0-0d51-4cfe-952a-5330aa1d95c7",
   "metadata": {},
   "outputs": [
    {
     "name": "stderr",
     "output_type": "stream",
     "text": [
      "/usr/local/lib/python3.11/site-packages/coffea/nanoevents/methods/candidate.py:11: FutureWarning: In version 2024.7.0 (target date: 2024-06-30 11:59:59-05:00), this will be an error.\n",
      "To raise these warnings as errors (and get stack traces to find out where they're called), run\n",
      "    import warnings\n",
      "    warnings.filterwarnings(\"error\", module=\"coffea.*\")\n",
      "after the first `import coffea` or use `@pytest.mark.filterwarnings(\"error:::coffea.*\")` in pytest.\n",
      "Issue: coffea.nanoevents.methods.vector will be removed and replaced with scikit-hep vector. Nanoevents schemas internal to coffea will be migrated. Otherwise please consider using that package!.\n",
      "  from coffea.nanoevents.methods import vector\n"
     ]
    }
   ],
   "source": [
    "# get arrays\n",
    "out = tnp.get_tnp_arrays(cut_and_count=True, vars=[\"Electron_pt\", \"tag_Ele_eta\", \"el_pt\", \"el_eta\", \"MET_pt\", \"luminosityBlock\"], compute=True)"
   ]
  },
  {
   "cell_type": "code",
   "execution_count": 16,
   "id": "595608ab-a2e3-45c4-afe1-8b5fca408f6d",
   "metadata": {},
   "outputs": [
    {
     "ename": "FieldNotFoundError",
     "evalue": "no field 'passing' in record with 7 fields",
     "output_type": "error",
     "traceback": [
      "\u001b[0;31m---------------------------------------------------------------------------\u001b[0m",
      "\u001b[0;31mFieldNotFoundError\u001b[0m                        Traceback (most recent call last)",
      "Cell \u001b[0;32mIn[16], line 1\u001b[0m\n\u001b[0;32m----> 1\u001b[0m \u001b[43mout\u001b[49m\u001b[43m[\u001b[49m\u001b[38;5;124;43m\"\u001b[39;49m\u001b[38;5;124;43msamples\u001b[39;49m\u001b[38;5;124;43m\"\u001b[39;49m\u001b[43m]\u001b[49m\u001b[43m[\u001b[49m\u001b[38;5;124;43m\"\u001b[39;49m\u001b[38;5;124;43mpassing\u001b[39;49m\u001b[38;5;124;43m\"\u001b[39;49m\u001b[43m]\u001b[49m\n",
      "File \u001b[0;32m/usr/local/lib/python3.11/site-packages/awkward/highlevel.py:1065\u001b[0m, in \u001b[0;36mArray.__getitem__\u001b[0;34m(self, where)\u001b[0m\n\u001b[1;32m    635\u001b[0m \u001b[38;5;250m\u001b[39m\u001b[38;5;124;03m\"\"\"\u001b[39;00m\n\u001b[1;32m    636\u001b[0m \u001b[38;5;124;03mArgs:\u001b[39;00m\n\u001b[1;32m    637\u001b[0m \u001b[38;5;124;03m    where (many types supported; see below): Index of positions to\u001b[39;00m\n\u001b[0;32m   (...)\u001b[0m\n\u001b[1;32m   1061\u001b[0m \u001b[38;5;124;03mhave the same dimension as the array being indexed.\u001b[39;00m\n\u001b[1;32m   1062\u001b[0m \u001b[38;5;124;03m\"\"\"\u001b[39;00m\n\u001b[1;32m   1063\u001b[0m \u001b[38;5;28;01mwith\u001b[39;00m ak\u001b[38;5;241m.\u001b[39m_errors\u001b[38;5;241m.\u001b[39mSlicingErrorContext(\u001b[38;5;28mself\u001b[39m, where):\n\u001b[1;32m   1064\u001b[0m     \u001b[38;5;28;01mreturn\u001b[39;00m wrap_layout(\n\u001b[0;32m-> 1065\u001b[0m         prepare_layout(\u001b[38;5;28;43mself\u001b[39;49m\u001b[38;5;241;43m.\u001b[39;49m\u001b[43m_layout\u001b[49m\u001b[43m[\u001b[49m\u001b[43mwhere\u001b[49m\u001b[43m]\u001b[49m),\n\u001b[1;32m   1066\u001b[0m         \u001b[38;5;28mself\u001b[39m\u001b[38;5;241m.\u001b[39m_behavior,\n\u001b[1;32m   1067\u001b[0m         allow_other\u001b[38;5;241m=\u001b[39m\u001b[38;5;28;01mTrue\u001b[39;00m,\n\u001b[1;32m   1068\u001b[0m         attrs\u001b[38;5;241m=\u001b[39m\u001b[38;5;28mself\u001b[39m\u001b[38;5;241m.\u001b[39m_attrs,\n\u001b[1;32m   1069\u001b[0m     )\n",
      "File \u001b[0;32m/usr/local/lib/python3.11/site-packages/awkward/contents/content.py:512\u001b[0m, in \u001b[0;36mContent.__getitem__\u001b[0;34m(self, where)\u001b[0m\n\u001b[1;32m    511\u001b[0m \u001b[38;5;28;01mdef\u001b[39;00m \u001b[38;5;21m__getitem__\u001b[39m(\u001b[38;5;28mself\u001b[39m, where):\n\u001b[0;32m--> 512\u001b[0m     \u001b[38;5;28;01mreturn\u001b[39;00m \u001b[38;5;28;43mself\u001b[39;49m\u001b[38;5;241;43m.\u001b[39;49m\u001b[43m_getitem\u001b[49m\u001b[43m(\u001b[49m\u001b[43mwhere\u001b[49m\u001b[43m)\u001b[49m\n",
      "File \u001b[0;32m/usr/local/lib/python3.11/site-packages/awkward/contents/content.py:529\u001b[0m, in \u001b[0;36mContent._getitem\u001b[0;34m(self, where)\u001b[0m\n\u001b[1;32m    526\u001b[0m     \u001b[38;5;28;01mreturn\u001b[39;00m \u001b[38;5;28mself\u001b[39m\u001b[38;5;241m.\u001b[39m_getitem((where,))\n\u001b[1;32m    528\u001b[0m \u001b[38;5;28;01melif\u001b[39;00m \u001b[38;5;28misinstance\u001b[39m(where, \u001b[38;5;28mstr\u001b[39m):\n\u001b[0;32m--> 529\u001b[0m     \u001b[38;5;28;01mreturn\u001b[39;00m \u001b[38;5;28;43mself\u001b[39;49m\u001b[38;5;241;43m.\u001b[39;49m\u001b[43m_getitem_field\u001b[49m\u001b[43m(\u001b[49m\u001b[43mwhere\u001b[49m\u001b[43m)\u001b[49m\n\u001b[1;32m    531\u001b[0m \u001b[38;5;28;01melif\u001b[39;00m where \u001b[38;5;129;01mis\u001b[39;00m np\u001b[38;5;241m.\u001b[39mnewaxis:\n\u001b[1;32m    532\u001b[0m     \u001b[38;5;28;01mreturn\u001b[39;00m \u001b[38;5;28mself\u001b[39m\u001b[38;5;241m.\u001b[39m_getitem((where,))\n",
      "File \u001b[0;32m/usr/local/lib/python3.11/site-packages/awkward/contents/recordarray.py:458\u001b[0m, in \u001b[0;36mRecordArray._getitem_field\u001b[0;34m(self, where, only_fields)\u001b[0m\n\u001b[1;32m    454\u001b[0m \u001b[38;5;28;01mdef\u001b[39;00m \u001b[38;5;21m_getitem_field\u001b[39m(\n\u001b[1;32m    455\u001b[0m     \u001b[38;5;28mself\u001b[39m, where: \u001b[38;5;28mstr\u001b[39m \u001b[38;5;241m|\u001b[39m SupportsIndex, only_fields: \u001b[38;5;28mtuple\u001b[39m[\u001b[38;5;28mstr\u001b[39m, \u001b[38;5;241m.\u001b[39m\u001b[38;5;241m.\u001b[39m\u001b[38;5;241m.\u001b[39m] \u001b[38;5;241m=\u001b[39m ()\n\u001b[1;32m    456\u001b[0m ) \u001b[38;5;241m-\u001b[39m\u001b[38;5;241m>\u001b[39m Content:\n\u001b[1;32m    457\u001b[0m     \u001b[38;5;28;01mif\u001b[39;00m \u001b[38;5;28mlen\u001b[39m(only_fields) \u001b[38;5;241m==\u001b[39m \u001b[38;5;241m0\u001b[39m:\n\u001b[0;32m--> 458\u001b[0m         \u001b[38;5;28;01mreturn\u001b[39;00m \u001b[38;5;28;43mself\u001b[39;49m\u001b[38;5;241;43m.\u001b[39;49m\u001b[43mcontent\u001b[49m\u001b[43m(\u001b[49m\u001b[43mwhere\u001b[49m\u001b[43m)\u001b[49m\n\u001b[1;32m    460\u001b[0m     \u001b[38;5;28;01melse\u001b[39;00m:\n\u001b[1;32m    461\u001b[0m         nexthead, nexttail \u001b[38;5;241m=\u001b[39m ak\u001b[38;5;241m.\u001b[39m_slicing\u001b[38;5;241m.\u001b[39mhead_tail(only_fields)\n",
      "File \u001b[0;32m/usr/local/lib/python3.11/site-packages/awkward/contents/recordarray.py:394\u001b[0m, in \u001b[0;36mRecordArray.content\u001b[0;34m(self, index_or_field)\u001b[0m\n\u001b[1;32m    393\u001b[0m \u001b[38;5;28;01mdef\u001b[39;00m \u001b[38;5;21mcontent\u001b[39m(\u001b[38;5;28mself\u001b[39m, index_or_field: \u001b[38;5;28mstr\u001b[39m \u001b[38;5;241m|\u001b[39m SupportsIndex) \u001b[38;5;241m-\u001b[39m\u001b[38;5;241m>\u001b[39m Content:\n\u001b[0;32m--> 394\u001b[0m     out \u001b[38;5;241m=\u001b[39m \u001b[38;5;28;43msuper\u001b[39;49m\u001b[43m(\u001b[49m\u001b[43m)\u001b[49m\u001b[38;5;241;43m.\u001b[39;49m\u001b[43mcontent\u001b[49m\u001b[43m(\u001b[49m\u001b[43mindex_or_field\u001b[49m\u001b[43m)\u001b[49m\n\u001b[1;32m    395\u001b[0m     \u001b[38;5;28;01mif\u001b[39;00m (\n\u001b[1;32m    396\u001b[0m         \u001b[38;5;28mself\u001b[39m\u001b[38;5;241m.\u001b[39m_length \u001b[38;5;129;01mis\u001b[39;00m unknown_length\n\u001b[1;32m    397\u001b[0m         \u001b[38;5;129;01mor\u001b[39;00m out\u001b[38;5;241m.\u001b[39mlength \u001b[38;5;129;01mis\u001b[39;00m unknown_length\n\u001b[1;32m    398\u001b[0m         \u001b[38;5;129;01mor\u001b[39;00m out\u001b[38;5;241m.\u001b[39mlength \u001b[38;5;241m==\u001b[39m \u001b[38;5;28mself\u001b[39m\u001b[38;5;241m.\u001b[39m_length\n\u001b[1;32m    399\u001b[0m     ):\n\u001b[1;32m    400\u001b[0m         \u001b[38;5;28;01mreturn\u001b[39;00m out\n",
      "File \u001b[0;32m/usr/local/lib/python3.11/site-packages/awkward/_meta/recordmeta.py:136\u001b[0m, in \u001b[0;36mRecordMeta.content\u001b[0;34m(self, index_or_field)\u001b[0m\n\u001b[1;32m    134\u001b[0m     index \u001b[38;5;241m=\u001b[39m index_or_field\n\u001b[1;32m    135\u001b[0m \u001b[38;5;28;01melif\u001b[39;00m \u001b[38;5;28misinstance\u001b[39m(index_or_field, \u001b[38;5;28mstr\u001b[39m):\n\u001b[0;32m--> 136\u001b[0m     index \u001b[38;5;241m=\u001b[39m \u001b[38;5;28;43mself\u001b[39;49m\u001b[38;5;241;43m.\u001b[39;49m\u001b[43mfield_to_index\u001b[49m\u001b[43m(\u001b[49m\u001b[43mindex_or_field\u001b[49m\u001b[43m)\u001b[49m\n\u001b[1;32m    137\u001b[0m \u001b[38;5;28;01melse\u001b[39;00m:\n\u001b[1;32m    138\u001b[0m     \u001b[38;5;28;01mraise\u001b[39;00m \u001b[38;5;167;01mTypeError\u001b[39;00m(\n\u001b[1;32m    139\u001b[0m         \u001b[38;5;124mf\u001b[39m\u001b[38;5;124m\"\u001b[39m\u001b[38;5;124mindex_or_field must be an integer (index) or string (field), not \u001b[39m\u001b[38;5;132;01m{\u001b[39;00mindex_or_field\u001b[38;5;132;01m!r}\u001b[39;00m\u001b[38;5;124m\"\u001b[39m\n\u001b[1;32m    140\u001b[0m     )\n",
      "File \u001b[0;32m/usr/local/lib/python3.11/site-packages/awkward/_meta/recordmeta.py:117\u001b[0m, in \u001b[0;36mRecordMeta.field_to_index\u001b[0;34m(self, field)\u001b[0m\n\u001b[1;32m    115\u001b[0m     \u001b[38;5;28;01melse\u001b[39;00m:\n\u001b[1;32m    116\u001b[0m         \u001b[38;5;28;01mreturn\u001b[39;00m i\n\u001b[0;32m--> 117\u001b[0m \u001b[38;5;28;01mraise\u001b[39;00m FieldNotFoundError(\n\u001b[1;32m    118\u001b[0m     \u001b[38;5;124mf\u001b[39m\u001b[38;5;124m\"\u001b[39m\u001b[38;5;124mno field \u001b[39m\u001b[38;5;132;01m{\u001b[39;00mfield\u001b[38;5;132;01m!r}\u001b[39;00m\u001b[38;5;124m in record with \u001b[39m\u001b[38;5;132;01m{\u001b[39;00m\u001b[38;5;28mlen\u001b[39m(\u001b[38;5;28mself\u001b[39m\u001b[38;5;241m.\u001b[39m_contents)\u001b[38;5;132;01m}\u001b[39;00m\u001b[38;5;124m fields\u001b[39m\u001b[38;5;124m\"\u001b[39m\n\u001b[1;32m    119\u001b[0m )\n",
      "\u001b[0;31mFieldNotFoundError\u001b[0m: no field 'passing' in record with 7 fields",
      "\u001b[0m\nThis error occurred while attempting to slice\n\n    <Array [{Electron_pt: [...], ...}, ...] type='11557 * {Electron_pt: var...'>\n\nwith\n\n    'passing'"
     ]
    }
   ],
   "source": [
    "out[\"samples\"][\"passing\"]"
   ]
  },
  {
   "cell_type": "code",
   "execution_count": null,
   "id": "b0dbd315-f037-487f-8e0e-0b5eeeaf2f4d",
   "metadata": {},
   "outputs": [],
   "source": []
  }
 ],
 "metadata": {
  "kernelspec": {
   "display_name": "Python 3 (ipykernel)",
   "language": "python",
   "name": "python3"
  },
  "language_info": {
   "codemirror_mode": {
    "name": "ipython",
    "version": 3
   },
   "file_extension": ".py",
   "mimetype": "text/x-python",
   "name": "python",
   "nbconvert_exporter": "python",
   "pygments_lexer": "ipython3",
   "version": "3.11.9"
  }
 },
 "nbformat": 4,
 "nbformat_minor": 5
}
