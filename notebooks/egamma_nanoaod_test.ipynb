{
 "cells": [
  {
   "cell_type": "code",
   "execution_count": 1,
   "id": "0f355740-90a8-4fc0-9347-41179e402c5b",
   "metadata": {},
   "outputs": [],
   "source": [
    "# import packages\n",
    "\n",
    "import dask_awkward as dak\n",
    "import numpy as np\n",
    "from coffea.dataset_tools import preprocess\n",
    "from distributed import Client\n",
    "from matplotlib import pyplot as plt\n",
    "\n",
    "import egamma_tnp\n",
    "from egamma_tnp import ElectronTagNProbeFromNanoAOD, ElectronTagNProbeFromNTuples\n",
    "from egamma_tnp.plot import plot_efficiency"
   ]
  },
  {
   "cell_type": "code",
   "execution_count": 2,
   "id": "4be49408-0198-4a0e-87f9-4c028ace700b",
   "metadata": {},
   "outputs": [
    {
     "name": "stderr",
     "output_type": "stream",
     "text": [
      "/usr/local/lib/python3.11/site-packages/distributed/node.py:182: UserWarning: Port 8787 is already in use.\n",
      "Perhaps you already have a cluster running?\n",
      "Hosting the HTTP server on port 35673 instead\n",
      "  warnings.warn(\n"
     ]
    }
   ],
   "source": [
    "# start client\n",
    "client = Client()"
   ]
  },
  {
   "cell_type": "code",
   "execution_count": 3,
   "id": "0fcc6837-a3e6-4e19-9cee-3f61ba24d78f",
   "metadata": {},
   "outputs": [
    {
     "name": "stdout",
     "output_type": "stream",
     "text": [
      "{'samples': {'files': {'../root_files/Data_Run2023C_EGamma0_NANOAOD_22Sep2023_v1-v1_001.root': 'Events'}}}\n"
     ]
    }
   ],
   "source": [
    "# define datasets\n",
    "\n",
    "fileset = {\n",
    "    \"samples\": {\n",
    "        \"files\": {\n",
    "            \"../root_files/Data_Run2023C_EGamma0_NANOAOD_22Sep2023_v1-v1_001.root\": \"Events\",\n",
    "        }\n",
    "    }\n",
    "}\n",
    "\n",
    "print(fileset)\n",
    "\n",
    "fileset_available, fileset_updates = preprocess(fileset, skip_bad_files=True, step_size=500_000)"
   ]
  },
  {
   "cell_type": "code",
   "execution_count": 4,
   "id": "286a072d-98b6-4a29-a1eb-694c8327809f",
   "metadata": {},
   "outputs": [],
   "source": [
    "# initialize tag and probe class\n",
    "\n",
    "tnp = ElectronTagNProbeFromNanoAOD(\n",
    "    fileset_available,\n",
    "    filters=[\"HLT_Ele30_WPTight_Gsf\"],\n",
    "    filterbit=[1],\n",
    "    cutbased_id = \"cutBased >= 4\",\n",
    "    tags_pt_cut=30,\n",
    "    use_sc_eta=True,\n",
    "    tags_abseta_cut=2.50,\n",
    "    probes_pt_cut=27,\n",
    "    trigger_pt=[30],\n",
    ")\n",
    "\n",
    "egamma_tnp.binning.set(\"MET_pt_bins\", np.linspace(0, 200, 21).tolist())\n",
    "egamma_tnp.binning.set(\"luminosityBlock_bins\", np.linspace(0, 1000, 11).tolist())\n",
    "egamma_tnp.binning.set(\"tag_Ele_pt_bins\", egamma_tnp.binning.get(\"pt_bins\"))\n",
    "egamma_tnp.binning.set(\"tag_Ele_eta_bins\", egamma_tnp.binning.get(\"eta_bins\"))\n",
    "egamma_tnp.binning.set(\"el_pt_bins\", egamma_tnp.binning.get(\"pt_bins\"))\n",
    "egamma_tnp.binning.set(\"el_eta_bins\", egamma_tnp.binning.get(\"eta_bins\"))\n",
    "egamma_tnp.binning.set(\"Electron_pt_bins\", egamma_tnp.binning.get(\"pt_bins\"))"
   ]
  },
  {
   "cell_type": "code",
   "execution_count": 5,
   "id": "dcd388d0-0d51-4cfe-952a-5330aa1d95c7",
   "metadata": {},
   "outputs": [
    {
     "name": "stderr",
     "output_type": "stream",
     "text": [
      "/usr/local/lib/python3.11/site-packages/coffea/nanoevents/methods/candidate.py:11: FutureWarning: In version 2024.7.0 (target date: 2024-06-30 11:59:59-05:00), this will be an error.\n",
      "To raise these warnings as errors (and get stack traces to find out where they're called), run\n",
      "    import warnings\n",
      "    warnings.filterwarnings(\"error\", module=\"coffea.*\")\n",
      "after the first `import coffea` or use `@pytest.mark.filterwarnings(\"error:::coffea.*\")` in pytest.\n",
      "Issue: coffea.nanoevents.methods.vector will be removed and replaced with scikit-hep vector. Nanoevents schemas internal to coffea will be migrated. Otherwise please consider using that package!.\n",
      "  from coffea.nanoevents.methods import vector\n"
     ]
    },
    {
     "data": {
      "text/plain": [
       "{'from-uproot-f87dc3631db195d07db8fe99ac23d811': frozenset({'Electron_charge',\n",
       "            'Electron_cutBased',\n",
       "            'Electron_deltaEtaSC',\n",
       "            'Electron_eta',\n",
       "            'Electron_mass',\n",
       "            'Electron_phi',\n",
       "            'Electron_pt',\n",
       "            'HLT_Ele30_WPTight_Gsf',\n",
       "            'MET_pt',\n",
       "            'TrigObj_eta',\n",
       "            'TrigObj_filterBits',\n",
       "            'TrigObj_id',\n",
       "            'TrigObj_phi',\n",
       "            'TrigObj_pt',\n",
       "            'luminosityBlock',\n",
       "            'nElectron',\n",
       "            'nTrigObj'})}"
      ]
     },
     "execution_count": 5,
     "metadata": {},
     "output_type": "execute_result"
    }
   ],
   "source": [
    "dak.necessary_columns(tnp.get_tnp_arrays(cut_and_count=False, vars=[\"Electron_pt\", \"tag_Ele_eta\", \"el_pt\", \"el_eta\", \"MET_pt\", \"luminosityBlock\"]))"
   ]
  },
  {
   "cell_type": "code",
   "execution_count": 6,
   "id": "595608ab-a2e3-45c4-afe1-8b5fca408f6d",
   "metadata": {},
   "outputs": [
    {
     "data": {
      "text/plain": [
       "{'from-uproot-f87dc3631db195d07db8fe99ac23d811': frozenset({'Electron_charge',\n",
       "            'Electron_cutBased',\n",
       "            'Electron_deltaEtaSC',\n",
       "            'Electron_eta',\n",
       "            'Electron_mass',\n",
       "            'Electron_phi',\n",
       "            'Electron_pt',\n",
       "            'HLT_Ele30_WPTight_Gsf',\n",
       "            'MET_pt',\n",
       "            'TrigObj_eta',\n",
       "            'TrigObj_filterBits',\n",
       "            'TrigObj_id',\n",
       "            'TrigObj_phi',\n",
       "            'TrigObj_pt',\n",
       "            'luminosityBlock',\n",
       "            'nElectron',\n",
       "            'nTrigObj'})}"
      ]
     },
     "execution_count": 6,
     "metadata": {},
     "output_type": "execute_result"
    }
   ],
   "source": [
    "dak.necessary_columns(\n",
    "    tnp.get_nd_tnp_histograms(\"HLT_Ele30_WPTight_Gsf\", cut_and_count=True, vars=[\"tag_Ele_pt\", \"el_pt\", \"el_eta\", \"MET_pt\", \"luminosityBlock\"])\n",
    ")"
   ]
  },
  {
   "cell_type": "code",
   "execution_count": 7,
   "id": "b0dbd315-f037-487f-8e0e-0b5eeeaf2f4d",
   "metadata": {},
   "outputs": [
    {
     "name": "stderr",
     "output_type": "stream",
     "text": [
      "/usr/local/lib/python3.11/site-packages/coffea/nanoevents/methods/candidate.py:11: FutureWarning: In version 2024.7.0 (target date: 2024-06-30 11:59:59-05:00), this will be an error.\n",
      "To raise these warnings as errors (and get stack traces to find out where they're called), run\n",
      "    import warnings\n",
      "    warnings.filterwarnings(\"error\", module=\"coffea.*\")\n",
      "after the first `import coffea` or use `@pytest.mark.filterwarnings(\"error:::coffea.*\")` in pytest.\n",
      "Issue: coffea.nanoevents.methods.vector will be removed and replaced with scikit-hep vector. Nanoevents schemas internal to coffea will be migrated. Otherwise please consider using that package!.\n",
      "  from coffea.nanoevents.methods import vector\n"
     ]
    }
   ],
   "source": [
    "# cut_and_count=True\n",
    "out = tnp.get_tnp_arrays(cut_and_count=True, vars=[\"Electron_pt\", \"tag_Ele_eta\", \"el_pt\", \"el_eta\", \"MET_pt\", \"luminosityBlock\"], compute=True)\n",
    "\n",
    "# cut_and_count=False\n",
    "#out = tnp.get_tnp_arrays(cut_and_count=False, vars=[\"Electron_pt\", \"tag_Ele_pt\", \"tag_Ele_eta\", \"el_pt\", \"el_eta\", \"MET_pt\", \"luminosityBlock\"], compute=True)"
   ]
  },
  {
   "cell_type": "code",
   "execution_count": 8,
   "id": "151484af-9953-44b5-9b6d-888d3b3d2f2d",
   "metadata": {},
   "outputs": [
    {
     "data": {
      "text/html": [
       "<pre>[{Electron_pt: [46.5, 38.2, 6.53], tag_Ele_eta: [0.441, ...], el_pt: ..., ...},\n",
       " {Electron_pt: [60.6, 32.6], tag_Ele_eta: [1.14, ...], el_pt: [...], ...},\n",
       " {Electron_pt: [54.1, 27.1], tag_Ele_eta: [-0.533], el_pt: [27.1], ...},\n",
       " {Electron_pt: [55.2, 40.5, 8.4, 6.4], tag_Ele_eta: [...], el_pt: [...], ...},\n",
       " {Electron_pt: [57.7, 37.9], tag_Ele_eta: [-0.932, ...], el_pt: [...], ...},\n",
       " {Electron_pt: [57.9, 33.7], tag_Ele_eta: [1.78, ...], el_pt: [...], ...},\n",
       " {Electron_pt: [57.1, 44.8], tag_Ele_eta: [0.87], el_pt: [57.1], ...},\n",
       " {Electron_pt: [34.6, 31.4], tag_Ele_eta: [-1], el_pt: [31.4], ...},\n",
       " {Electron_pt: [48.4, 46.6], tag_Ele_eta: [2.16, ...], el_pt: [...], ...},\n",
       " {Electron_pt: [49.8, 37.3], tag_Ele_eta: [1.32], el_pt: [37.3], ...},\n",
       " ...,\n",
       " {Electron_pt: [32.5, 30.3], tag_Ele_eta: [0.503, ...], el_pt: [...], ...},\n",
       " {Electron_pt: [46.8, 39.2, 6.12], tag_Ele_eta: [2.46, ...], el_pt: [...], ...},\n",
       " {Electron_pt: [48.9, 40.2], tag_Ele_eta: [1.18], el_pt: [40.2], ...},\n",
       " {Electron_pt: [39.8, 38], tag_Ele_eta: [-1.65], el_pt: [39.8], ...},\n",
       " {Electron_pt: [48.9, 30.1], tag_Ele_eta: [0.922, ...], el_pt: [...], ...},\n",
       " {Electron_pt: [48.2, 40.5], tag_Ele_eta: [1.2, ...], el_pt: [...], ...},\n",
       " {Electron_pt: [35.8, 34.3], tag_Ele_eta: [1.33, ...], el_pt: [...], ...},\n",
       " {Electron_pt: [47.6, 44.2], tag_Ele_eta: [-0.646, ...], el_pt: [...], ...},\n",
       " {Electron_pt: [54.9, 37.7], tag_Ele_eta: [0.562, ...], el_pt: [...], ...}]\n",
       "--------------------------------------------------------------------------------\n",
       "type: 7391 * {\n",
       "    Electron_pt: var * float32[parameters={&quot;__doc__&quot;: &quot;pt&quot;}],\n",
       "    tag_Ele_eta: var * float32[parameters={&quot;__doc__&quot;: &quot;eta&quot;}],\n",
       "    el_pt: var * float32[parameters={&quot;__doc__&quot;: &quot;pt&quot;}],\n",
       "    el_eta: var * float32[parameters={&quot;__doc__&quot;: &quot;eta&quot;}],\n",
       "    MET_pt: float32[parameters={&quot;__doc__&quot;: &quot;pt&quot;}],\n",
       "    luminosityBlock: uint32[parameters={&quot;__doc__&quot;: &quot;luminosityBlock/i&quot;}],\n",
       "    HLT_Ele30_WPTight_Gsf: var * bool\n",
       "}</pre>"
      ],
      "text/plain": [
       "<Array [{Electron_pt: [...], ...}, ..., {...}] type='7391 * {Electron_pt: v...'>"
      ]
     },
     "execution_count": 8,
     "metadata": {},
     "output_type": "execute_result"
    }
   ],
   "source": [
    "out[\"samples\"]"
   ]
  },
  {
   "cell_type": "code",
   "execution_count": 12,
   "id": "bc5fc339-268d-4f57-87ff-519fd5caaaa5",
   "metadata": {},
   "outputs": [
    {
     "data": {
      "text/html": [
       "<pre>[[46.5, 38.2, 6.53],\n",
       " [60.6, 32.6],\n",
       " [54.1, 27.1],\n",
       " [55.2, 40.5, 8.4, 6.4],\n",
       " [57.7, 37.9],\n",
       " [57.9, 33.7],\n",
       " [57.1, 44.8],\n",
       " [34.6, 31.4],\n",
       " [48.4, 46.6],\n",
       " [49.8, 37.3],\n",
       " ...,\n",
       " [32.5, 30.3],\n",
       " [46.8, 39.2, 6.12],\n",
       " [48.9, 40.2],\n",
       " [39.8, 38],\n",
       " [48.9, 30.1],\n",
       " [48.2, 40.5],\n",
       " [35.8, 34.3],\n",
       " [47.6, 44.2],\n",
       " [54.9, 37.7]]\n",
       "--------------------------------------------------------\n",
       "type: 7391 * var * float32[parameters={&quot;__doc__&quot;: &quot;pt&quot;}]</pre>"
      ],
      "text/plain": [
       "<Array [[46.5, 38.2, 6.53], ..., [54.9, ...]] type='7391 * var * float32[pa...'>"
      ]
     },
     "execution_count": 12,
     "metadata": {},
     "output_type": "execute_result"
    }
   ],
   "source": [
    "out[\"samples\"].Electron_pt\n",
    "#out[\"samples\"].pair_mass"
   ]
  },
  {
   "cell_type": "code",
   "execution_count": 13,
   "id": "cee830cf-b3e6-4fc1-8999-c3225e66c232",
   "metadata": {},
   "outputs": [
    {
     "data": {
      "text/html": [
       "<pre>[[38.2, 46.5],\n",
       " [32.6, 60.6],\n",
       " [27.1],\n",
       " [40.5, 55.2],\n",
       " [37.9, 57.7],\n",
       " [33.7, 57.9],\n",
       " [57.1],\n",
       " [31.4],\n",
       " [46.6, 48.4],\n",
       " [37.3],\n",
       " ...,\n",
       " [30.3, 32.5],\n",
       " [39.2, 46.8],\n",
       " [40.2],\n",
       " [39.8],\n",
       " [30.1, 48.9],\n",
       " [40.5, 48.2],\n",
       " [34.3, 35.8],\n",
       " [44.2, 47.6],\n",
       " [37.7, 54.9]]\n",
       "--------------------------------------------------------\n",
       "type: 7391 * var * float32[parameters={&quot;__doc__&quot;: &quot;pt&quot;}]</pre>"
      ],
      "text/plain": [
       "<Array [[38.2, 46.5], [...], ..., [37.7, 54.9]] type='7391 * var * float32[...'>"
      ]
     },
     "execution_count": 13,
     "metadata": {},
     "output_type": "execute_result"
    }
   ],
   "source": [
    "out[\"samples\"].el_pt"
   ]
  },
  {
   "cell_type": "code",
   "execution_count": 14,
   "id": "9837b981-d4b0-4cad-983e-c2aecc95dd21",
   "metadata": {},
   "outputs": [
    {
     "name": "stderr",
     "output_type": "stream",
     "text": [
      "/usr/local/lib/python3.11/site-packages/coffea/nanoevents/methods/candidate.py:11: FutureWarning: In version 2024.7.0 (target date: 2024-06-30 11:59:59-05:00), this will be an error.\n",
      "To raise these warnings as errors (and get stack traces to find out where they're called), run\n",
      "    import warnings\n",
      "    warnings.filterwarnings(\"error\", module=\"coffea.*\")\n",
      "after the first `import coffea` or use `@pytest.mark.filterwarnings(\"error:::coffea.*\")` in pytest.\n",
      "Issue: coffea.nanoevents.methods.vector will be removed and replaced with scikit-hep vector. Nanoevents schemas internal to coffea will be migrated. Otherwise please consider using that package!.\n",
      "  from coffea.nanoevents.methods import vector\n"
     ]
    }
   ],
   "source": [
    "out = tnp.get_1d_pt_eta_phi_tnp_histograms(\n",
    "    \"HLT_Ele30_WPTight_Gsf\",\n",
    "    cut_and_count=True,\n",
    "    vars=[\"el_pt\", \"el_eta\", \"el_phi\"],\n",
    "    eta_regions_pt={\n",
    "        \"barrel\": [0.0, 1.4442],\n",
    "        \"endcap_loweta\": [1.566, 2.0],\n",
    "        \"endcap_higheta\": [2.0, 2.5],\n",
    "    },\n",
    "    plateau_cut=35,\n",
    "    compute=True,\n",
    ")"
   ]
  },
  {
   "cell_type": "code",
   "execution_count": 15,
   "id": "32a4db01-31de-4bd3-8e27-17ad13e836a3",
   "metadata": {},
   "outputs": [],
   "source": [
    "# cut_and_count=True\n",
    "out = tnp.get_nd_tnp_histograms(\"HLT_Ele30_WPTight_Gsf\", cut_and_count=True, vars=[\"tag_Ele_pt\", \"el_pt\", \"el_eta\", \"MET_pt\", \"luminosityBlock\"], compute=True)\n",
    "\n",
    "# cut_and_count=False\n",
    "#out = tnp.get_nd_tnp_histograms(\"HLT_Ele30_WPTight_Gsf\", cut_and_count=False, vars=[\"Electron_pt\", \"tag_Ele_pt\", \"tag_Ele_eta\", \"el_pt\", \"el_eta\", \"MET_pt\", \"luminosityBlock\"], compute=True)"
   ]
  },
  {
   "cell_type": "code",
   "execution_count": 16,
   "id": "9620bd28-4e62-4b21-b4e9-6e9c6679240f",
   "metadata": {},
   "outputs": [
    {
     "name": "stdout",
     "output_type": "stream",
     "text": [
      "{'samples': {'passing': Hist(\n",
      "  Variable(array([  5. ,  10. ,  12.5,  15. ,  17.5,  20. ,  22.5,  25. ,  30. ,\n",
      "        35. ,  40. ,  45. ,  50. ,  60. ,  80. , 100. , 150. , 200. ,\n",
      "       250. , 300. , 350. , 400. ]), name='tag_Ele_pt', label='Tag_ele_pt'),\n",
      "  Variable(array([  5. ,  10. ,  12.5,  15. ,  17.5,  20. ,  22.5,  25. ,  30. ,\n",
      "        35. ,  40. ,  45. ,  50. ,  60. ,  80. , 100. , 150. , 200. ,\n",
      "       250. , 300. , 350. , 400. ]), name='el_pt', label='El_pt'),\n",
      "  Variable(array([-2.5   , -2.4   , -2.3   , -2.2   , -2.1   , -2.    , -1.9   ,\n",
      "       -1.8   , -1.7   , -1.566 , -1.4442, -1.3   , -1.2   , -1.1   ,\n",
      "       -1.    , -0.9   , -0.8   , -0.7   , -0.6   , -0.5   , -0.4   ,\n",
      "       -0.3   , -0.2   , -0.1   ,  0.    ,  0.1   ,  0.2   ,  0.3   ,\n",
      "        0.4   ,  0.5   ,  0.6   ,  0.7   ,  0.8   ,  0.9   ,  1.    ,\n",
      "        1.1   ,  1.2   ,  1.3   ,  1.4442,  1.566 ,  1.7   ,  1.8   ,\n",
      "        1.9   ,  2.    ,  2.1   ,  2.2   ,  2.3   ,  2.4   ,  2.5   ]), name='el_eta', label='El_eta'),\n",
      "  Variable([0, 10, 20, 30, 40, 50, 60, 70, 80, 90, 100, 110, 120, 130, 140, 150, 160, 170, 180, 190, 200], name='MET_pt', label='Met_pt'),\n",
      "  Variable([0, 100, 200, 300, 400, 500, 600, 700, 800, 900, 1000], name='luminosityBlock', label='Luminosityblock'),\n",
      "  storage=Weight()) # Sum: WeightedSum(value=8476, variance=8476) (WeightedSum(value=10019, variance=10019) with flow), 'failing': Hist(\n",
      "  Variable(array([  5. ,  10. ,  12.5,  15. ,  17.5,  20. ,  22.5,  25. ,  30. ,\n",
      "        35. ,  40. ,  45. ,  50. ,  60. ,  80. , 100. , 150. , 200. ,\n",
      "       250. , 300. , 350. , 400. ]), name='tag_Ele_pt', label='Tag_ele_pt'),\n",
      "  Variable(array([  5. ,  10. ,  12.5,  15. ,  17.5,  20. ,  22.5,  25. ,  30. ,\n",
      "        35. ,  40. ,  45. ,  50. ,  60. ,  80. , 100. , 150. , 200. ,\n",
      "       250. , 300. , 350. , 400. ]), name='el_pt', label='El_pt'),\n",
      "  Variable(array([-2.5   , -2.4   , -2.3   , -2.2   , -2.1   , -2.    , -1.9   ,\n",
      "       -1.8   , -1.7   , -1.566 , -1.4442, -1.3   , -1.2   , -1.1   ,\n",
      "       -1.    , -0.9   , -0.8   , -0.7   , -0.6   , -0.5   , -0.4   ,\n",
      "       -0.3   , -0.2   , -0.1   ,  0.    ,  0.1   ,  0.2   ,  0.3   ,\n",
      "        0.4   ,  0.5   ,  0.6   ,  0.7   ,  0.8   ,  0.9   ,  1.    ,\n",
      "        1.1   ,  1.2   ,  1.3   ,  1.4442,  1.566 ,  1.7   ,  1.8   ,\n",
      "        1.9   ,  2.    ,  2.1   ,  2.2   ,  2.3   ,  2.4   ,  2.5   ]), name='el_eta', label='El_eta'),\n",
      "  Variable([0, 10, 20, 30, 40, 50, 60, 70, 80, 90, 100, 110, 120, 130, 140, 150, 160, 170, 180, 190, 200], name='MET_pt', label='Met_pt'),\n",
      "  Variable([0, 100, 200, 300, 400, 500, 600, 700, 800, 900, 1000], name='luminosityBlock', label='Luminosityblock'),\n",
      "  storage=Weight()) # Sum: WeightedSum(value=1930, variance=1930) (WeightedSum(value=2239, variance=2239) with flow)}}\n"
     ]
    }
   ],
   "source": [
    "print(out)"
   ]
  },
  {
   "cell_type": "code",
   "execution_count": 45,
   "id": "fddb5439-9969-442c-932b-7f40961bb886",
   "metadata": {},
   "outputs": [
    {
     "data": {
      "image/png": "[encoded data removed]",
      "text/plain": [
       "<Figure size 640x480 with 1 Axes>"
      ]
     },
     "metadata": {},
     "output_type": "display_data"
    }
   ],
   "source": [
    "# Tag electron p_T\n",
    "out[\"samples\"][\"passing\"].project(\"tag_Ele_pt\").plot(label=\"passing\")\n",
    "out[\"samples\"][\"failing\"].project(\"tag_Ele_pt\").plot(label=\"failing\")\n",
    "ax = plt.gca()\n",
    "plt.title(\"Tag electron p_T\")\n",
    "plt.legend(loc=\"upper right\")\n",
    "ax.set_xlim([0.0, 100.0])\n",
    "plt.show()"
   ]
  },
  {
   "cell_type": "code",
   "execution_count": 46,
   "id": "654d2c2e-b14f-4113-8380-ef97838fe4da",
   "metadata": {},
   "outputs": [
    {
     "data": {
      "image/png": "[encoded data removed]",
      "text/plain": [
       "<Figure size 640x480 with 1 Axes>"
      ]
     },
     "metadata": {},
     "output_type": "display_data"
    }
   ],
   "source": [
    "# Probe electron p_T\n",
    "out[\"samples\"][\"passing\"].project(\"el_pt\").plot(label=\"passing\")\n",
    "out[\"samples\"][\"failing\"].project(\"el_pt\").plot(label=\"failing\")\n",
    "ax = plt.gca()\n",
    "plt.title(\"Probe electron p_T\")\n",
    "plt.legend(loc=\"upper right\")\n",
    "ax.set_xlim([0.0, 100.0])\n",
    "plt.show()"
   ]
  },
  {
   "cell_type": "code",
   "execution_count": 29,
   "id": "4a8b8d86-da35-427a-bb97-e06af8397f52",
   "metadata": {},
   "outputs": [
    {
     "data": {
      "image/png": "[encoded data removed]",
      "text/plain": [
       "<Figure size 640x480 with 1 Axes>"
      ]
     },
     "metadata": {},
     "output_type": "display_data"
    }
   ],
   "source": [
    "# MET p_T\n",
    "out[\"samples\"][\"passing\"].project(\"MET_pt\").plot()\n",
    "out[\"samples\"][\"failing\"].project(\"MET_pt\").plot()\n",
    "plt.title(\"MET\")\n",
    "plt.show()"
   ]
  },
  {
   "cell_type": "code",
   "execution_count": 24,
   "id": "9913af46-a507-4d92-9583-f5a85ce9b800",
   "metadata": {},
   "outputs": [],
   "source": [
    "#out[\"samples\"][\"passing\"].project(\"pair_mass\").plot()\n",
    "#out[\"samples\"][\"failing\"].project(\"pair_mass\").plot()\n",
    "#plt.show()"
   ]
  },
  {
   "cell_type": "code",
   "execution_count": 25,
   "id": "f1921c7d-e141-45a8-bd97-b5f2542ef3ef",
   "metadata": {},
   "outputs": [
    {
     "data": {
      "image/png": "[encoded data removed]",
      "text/plain": [
       "<Figure size 640x480 with 1 Axes>"
      ]
     },
     "metadata": {},
     "output_type": "display_data"
    }
   ],
   "source": [
    "# efficiency vs. probe p_T\n",
    "plot_efficiency(out[\"samples\"][\"passing\"].project(\"el_pt\"), out[\"samples\"][\"failing\"].project(\"el_pt\"))\n",
    "plt.xlim(0.0, 100.0)\n",
    "plt.ylim(-0.1, 1.1)\n",
    "plt.title(\"Electron Efficiency vs. probe p_T\")\n",
    "plt.show()"
   ]
  },
  {
   "cell_type": "code",
   "execution_count": 26,
   "id": "4a161f94-88ed-46ff-abbb-4f0ac36c5ab4",
   "metadata": {},
   "outputs": [
    {
     "data": {
      "image/png": "[encoded data removed]",
      "text/plain": [
       "<Figure size 640x480 with 1 Axes>"
      ]
     },
     "metadata": {},
     "output_type": "display_data"
    }
   ],
   "source": [
    "# efficiency vs. probe eta\n",
    "plot_efficiency(out[\"samples\"][\"passing\"].project(\"el_eta\"), out[\"samples\"][\"failing\"].project(\"el_eta\"))\n",
    "plt.xlim(-3.0, 3.0)\n",
    "plt.ylim(-0.1, 1.1)\n",
    "plt.title(\"Electron Efficiency vs. probe eta\")\n",
    "plt.show()"
   ]
  },
  {
   "cell_type": "code",
   "execution_count": null,
   "id": "b904ccbd-7811-4b89-9023-30f460094e00",
   "metadata": {},
   "outputs": [],
   "source": []
  }
 ],
 "metadata": {
  "kernelspec": {
   "display_name": "Python 3 (ipykernel)",
   "language": "python",
   "name": "python3"
  },
  "language_info": {
   "codemirror_mode": {
    "name": "ipython",
    "version": 3
   },
   "file_extension": ".py",
   "mimetype": "text/x-python",
   "name": "python",
   "nbconvert_exporter": "python",
   "pygments_lexer": "ipython3",
   "version": "3.11.9"
  }
 },
 "nbformat": 4,
 "nbformat_minor": 5
}
