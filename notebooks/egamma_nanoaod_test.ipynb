{
 "cells": [
  {
   "cell_type": "code",
   "execution_count": 1,
   "id": "0f355740-90a8-4fc0-9347-41179e402c5b",
   "metadata": {},
   "outputs": [],
   "source": [
    "# import packages\n",
    "\n",
    "import dask_awkward as dak\n",
    "import numpy as np\n",
    "from coffea.dataset_tools import preprocess\n",
    "from distributed import Client\n",
    "from matplotlib import pyplot as plt\n",
    "\n",
    "import egamma_tnp\n",
    "from egamma_tnp import ElectronTagNProbeFromNanoAOD, ElectronTagNProbeFromNTuples\n",
    "from egamma_tnp.plot import plot_efficiency"
   ]
  },
  {
   "cell_type": "code",
   "execution_count": 2,
   "id": "4be49408-0198-4a0e-87f9-4c028ace700b",
   "metadata": {},
   "outputs": [],
   "source": [
    "# start client\n",
    "client = Client()"
   ]
  },
  {
   "cell_type": "code",
   "execution_count": 3,
   "id": "0fcc6837-a3e6-4e19-9cee-3f61ba24d78f",
   "metadata": {},
   "outputs": [
    {
     "name": "stdout",
     "output_type": "stream",
     "text": [
      "{'samples': {'files': {'../root_files/Data_Run2023C_EGamma0_NANOAOD_22Sep2023_v1-v1_001.root': 'Events'}}}\n"
     ]
    }
   ],
   "source": [
    "# define datasets\n",
    "\n",
    "fileset = {\n",
    "    \"samples\": {\n",
    "        \"files\": {\n",
    "            \"../root_files/Data_Run2023C_EGamma0_NANOAOD_22Sep2023_v1-v1_001.root\": \"Events\",\n",
    "        }\n",
    "    }\n",
    "}\n",
    "\n",
    "print(fileset)\n",
    "\n",
    "fileset_available, fileset_updates = preprocess(fileset, skip_bad_files=True, step_size=500_000)"
   ]
  },
  {
   "cell_type": "code",
   "execution_count": 4,
   "id": "286a072d-98b6-4a29-a1eb-694c8327809f",
   "metadata": {},
   "outputs": [],
   "source": [
    "# initialize tag and probe class\n",
    "\n",
    "tnp = ElectronTagNProbeFromNanoAOD(\n",
    "    fileset_available,\n",
    "    filters=[\"HLT_Ele30_WPTight_Gsf\"],\n",
    "    filterbit=[1],\n",
    "    cutbased_id = \"cutBased >= 4\",\n",
    "    tags_pt_cut=30,\n",
    "    use_sc_eta=True,\n",
    "    tags_abseta_cut=2.50,\n",
    "    probes_pt_cut=27,\n",
    "    trigger_pt=[30],\n",
    ")\n",
    "\n",
    "egamma_tnp.binning.set(\"MET_pt_bins\", np.linspace(0, 200, 21).tolist())\n",
    "egamma_tnp.binning.set(\"luminosityBlock_bins\", np.linspace(0, 1000, 11).tolist())\n",
    "egamma_tnp.binning.set(\"tag_Ele_pt_bins\", egamma_tnp.binning.get(\"pt_bins\"))\n",
    "egamma_tnp.binning.set(\"tag_Ele_eta_bins\", egamma_tnp.binning.get(\"eta_bins\"))\n",
    "egamma_tnp.binning.set(\"el_pt_bins\", egamma_tnp.binning.get(\"pt_bins\"))\n",
    "egamma_tnp.binning.set(\"el_eta_bins\", egamma_tnp.binning.get(\"eta_bins\"))\n",
    "egamma_tnp.binning.set(\"Electron_pt_bins\", egamma_tnp.binning.get(\"pt_bins\"))"
   ]
  },
  {
   "cell_type": "code",
   "execution_count": 5,
   "id": "dcd388d0-0d51-4cfe-952a-5330aa1d95c7",
   "metadata": {},
   "outputs": [
    {
     "name": "stderr",
     "output_type": "stream",
     "text": [
      "/usr/local/lib/python3.11/site-packages/coffea/nanoevents/methods/candidate.py:11: FutureWarning: In version 2024.7.0 (target date: 2024-06-30 11:59:59-05:00), this will be an error.\n",
      "To raise these warnings as errors (and get stack traces to find out where they're called), run\n",
      "    import warnings\n",
      "    warnings.filterwarnings(\"error\", module=\"coffea.*\")\n",
      "after the first `import coffea` or use `@pytest.mark.filterwarnings(\"error:::coffea.*\")` in pytest.\n",
      "Issue: coffea.nanoevents.methods.vector will be removed and replaced with scikit-hep vector. Nanoevents schemas internal to coffea will be migrated. Otherwise please consider using that package!.\n",
      "  from coffea.nanoevents.methods import vector\n"
     ]
    },
    {
     "data": {
      "text/plain": [
       "{'from-uproot-40e269e610ed53611be219d880204c9f': frozenset({'Electron_charge',\n",
       "            'Electron_cutBased',\n",
       "            'Electron_deltaEtaSC',\n",
       "            'Electron_eta',\n",
       "            'Electron_mass',\n",
       "            'Electron_phi',\n",
       "            'Electron_pt',\n",
       "            'HLT_Ele30_WPTight_Gsf',\n",
       "            'MET_pt',\n",
       "            'TrigObj_eta',\n",
       "            'TrigObj_filterBits',\n",
       "            'TrigObj_id',\n",
       "            'TrigObj_phi',\n",
       "            'TrigObj_pt',\n",
       "            'luminosityBlock',\n",
       "            'nElectron',\n",
       "            'nTrigObj'})}"
      ]
     },
     "execution_count": 5,
     "metadata": {},
     "output_type": "execute_result"
    }
   ],
   "source": [
    "dak.necessary_columns(tnp.get_tnp_arrays(cut_and_count=False, vars=[\"Electron_pt\", \"tag_Ele_eta\", \"el_pt\", \"el_eta\", \"MET_pt\", \"luminosityBlock\"]))"
   ]
  },
  {
   "cell_type": "code",
   "execution_count": 6,
   "id": "595608ab-a2e3-45c4-afe1-8b5fca408f6d",
   "metadata": {},
   "outputs": [
    {
     "data": {
      "text/plain": [
       "{'from-uproot-40e269e610ed53611be219d880204c9f': frozenset({'Electron_charge',\n",
       "            'Electron_cutBased',\n",
       "            'Electron_deltaEtaSC',\n",
       "            'Electron_eta',\n",
       "            'Electron_mass',\n",
       "            'Electron_phi',\n",
       "            'Electron_pt',\n",
       "            'HLT_Ele30_WPTight_Gsf',\n",
       "            'MET_pt',\n",
       "            'TrigObj_eta',\n",
       "            'TrigObj_filterBits',\n",
       "            'TrigObj_id',\n",
       "            'TrigObj_phi',\n",
       "            'TrigObj_pt',\n",
       "            'luminosityBlock',\n",
       "            'nElectron',\n",
       "            'nTrigObj'})}"
      ]
     },
     "execution_count": 6,
     "metadata": {},
     "output_type": "execute_result"
    }
   ],
   "source": [
    "dak.necessary_columns(\n",
    "    tnp.get_nd_tnp_histograms(\"HLT_Ele30_WPTight_Gsf\", cut_and_count=True, vars=[\"tag_Ele_pt\", \"el_pt\", \"el_eta\", \"MET_pt\", \"luminosityBlock\"])\n",
    ")"
   ]
  },
  {
   "cell_type": "code",
   "execution_count": 7,
   "id": "b0dbd315-f037-487f-8e0e-0b5eeeaf2f4d",
   "metadata": {},
   "outputs": [
    {
     "name": "stderr",
     "output_type": "stream",
     "text": [
      "/usr/local/lib/python3.11/site-packages/coffea/nanoevents/methods/candidate.py:11: FutureWarning: In version 2024.7.0 (target date: 2024-06-30 11:59:59-05:00), this will be an error.\n",
      "To raise these warnings as errors (and get stack traces to find out where they're called), run\n",
      "    import warnings\n",
      "    warnings.filterwarnings(\"error\", module=\"coffea.*\")\n",
      "after the first `import coffea` or use `@pytest.mark.filterwarnings(\"error:::coffea.*\")` in pytest.\n",
      "Issue: coffea.nanoevents.methods.vector will be removed and replaced with scikit-hep vector. Nanoevents schemas internal to coffea will be migrated. Otherwise please consider using that package!.\n",
      "  from coffea.nanoevents.methods import vector\n"
     ]
    }
   ],
   "source": [
    "# cut_and_count=True\n",
    "#out = tnp.get_tnp_arrays(cut_and_count=True, vars=[\"Electron_pt\", \"tag_Ele_eta\", \"el_pt\", \"el_eta\", \"MET_pt\", \"luminosityBlock\"], compute=True)\n",
    "# cut_and_count=False\n",
    "out = tnp.get_tnp_arrays(cut_and_count=False, vars=[\"Electron_pt\", \"tag_Ele_pt\", \"tag_Ele_eta\", \"el_pt\", \"el_eta\", \"MET_pt\", \"luminosityBlock\"], compute=True)"
   ]
  },
  {
   "cell_type": "code",
   "execution_count": 8,
   "id": "151484af-9953-44b5-9b6d-888d3b3d2f2d",
   "metadata": {},
   "outputs": [
    {
     "data": {
      "text/html": [
       "<pre>[{Electron_pt: [46.5, 38.2, 6.53], tag_Ele_pt: [46.5, ...], ...},\n",
       " {Electron_pt: [60.6, 32.6], tag_Ele_pt: [60.6, ...], tag_Ele_eta: [...], ...},\n",
       " {Electron_pt: [54.1, 27.1], tag_Ele_pt: [54.1], tag_Ele_eta: [-0.533], ...},\n",
       " {Electron_pt: [55.2, 40.5, 8.4, 6.4], tag_Ele_pt: [55.2, ...], ...},\n",
       " {Electron_pt: [57.7, 37.9], tag_Ele_pt: [57.7, ...], tag_Ele_eta: [...], ...},\n",
       " {Electron_pt: [72.6, 31.7, 17.8], tag_Ele_pt: [72.6], tag_Ele_eta: ..., ...},\n",
       " {Electron_pt: [57.9, 33.7], tag_Ele_pt: [57.9, ...], tag_Ele_eta: [...], ...},\n",
       " {Electron_pt: [57.1, 44.8], tag_Ele_pt: [44.8], tag_Ele_eta: [0.87], ...},\n",
       " {Electron_pt: [34.6, 31.4], tag_Ele_pt: [34.6], tag_Ele_eta: [-1], ...},\n",
       " {Electron_pt: [48.4, 46.6], tag_Ele_pt: [48.4, ...], tag_Ele_eta: [...], ...},\n",
       " ...,\n",
       " {Electron_pt: [32.5, 30.3], tag_Ele_pt: [32.5, ...], tag_Ele_eta: [...], ...},\n",
       " {Electron_pt: [46.8, 39.2, 6.12], tag_Ele_pt: [46.8, ...], ...},\n",
       " {Electron_pt: [48.9, 40.2], tag_Ele_pt: [48.9], tag_Ele_eta: [1.18], ...},\n",
       " {Electron_pt: [39.8, 38], tag_Ele_pt: [38], tag_Ele_eta: [-1.65], ...},\n",
       " {Electron_pt: [48.9, 30.1], tag_Ele_pt: [48.9, ...], tag_Ele_eta: [...], ...},\n",
       " {Electron_pt: [48.2, 40.5], tag_Ele_pt: [48.2, ...], tag_Ele_eta: [...], ...},\n",
       " {Electron_pt: [35.8, 34.3], tag_Ele_pt: [35.8, ...], tag_Ele_eta: [...], ...},\n",
       " {Electron_pt: [47.6, 44.2], tag_Ele_pt: [47.6, ...], tag_Ele_eta: [...], ...},\n",
       " {Electron_pt: [54.9, 37.7], tag_Ele_pt: [54.9, ...], tag_Ele_eta: [...], ...}]\n",
       "-------------------------------------------------------------------------------\n",
       "type: 7450 * {\n",
       "    Electron_pt: var * float32[parameters={&quot;__doc__&quot;: &quot;pt&quot;}],\n",
       "    tag_Ele_pt: var * float32[parameters={&quot;__doc__&quot;: &quot;pt&quot;}],\n",
       "    tag_Ele_eta: var * float32[parameters={&quot;__doc__&quot;: &quot;eta&quot;}],\n",
       "    el_pt: var * float32[parameters={&quot;__doc__&quot;: &quot;pt&quot;}],\n",
       "    el_eta: var * float32[parameters={&quot;__doc__&quot;: &quot;eta&quot;}],\n",
       "    MET_pt: float32[parameters={&quot;__doc__&quot;: &quot;pt&quot;}],\n",
       "    luminosityBlock: uint32[parameters={&quot;__doc__&quot;: &quot;luminosityBlock/i&quot;}],\n",
       "    HLT_Ele30_WPTight_Gsf: var * bool,\n",
       "    pair_mass: var * float32\n",
       "}</pre>"
      ],
      "text/plain": [
       "<Array [{Electron_pt: [...], ...}, ..., {...}] type='7450 * {Electron_pt: v...'>"
      ]
     },
     "execution_count": 8,
     "metadata": {},
     "output_type": "execute_result"
    }
   ],
   "source": [
    "out[\"samples\"]"
   ]
  },
  {
   "cell_type": "code",
   "execution_count": 9,
   "id": "bc5fc339-268d-4f57-87ff-519fd5caaaa5",
   "metadata": {},
   "outputs": [
    {
     "data": {
      "text/html": [
       "<pre>[[92.1, 92.1],\n",
       " [95.8, 95.8],\n",
       " [91.5],\n",
       " [94.6, 94.6],\n",
       " [91, 91],\n",
       " [121],\n",
       " [88.3, 88.3],\n",
       " [95],\n",
       " [90.2],\n",
       " [94.1, 94.1],\n",
       " ...,\n",
       " [90.6, 90.6],\n",
       " [87.5, 87.5],\n",
       " [88.8],\n",
       " [89.7],\n",
       " [85.1, 85.1],\n",
       " [94.2, 94.2],\n",
       " [83.5, 83.5],\n",
       " [91.9, 91.9],\n",
       " [89, 89]]\n",
       "--------------------------\n",
       "type: 7450 * var * float32</pre>"
      ],
      "text/plain": [
       "<Array [[92.1, 92.1], [95.8, ...], ..., [89, 89]] type='7450 * var * float32'>"
      ]
     },
     "execution_count": 9,
     "metadata": {},
     "output_type": "execute_result"
    }
   ],
   "source": [
    "out[\"samples\"].pair_mass"
   ]
  },
  {
   "cell_type": "code",
   "execution_count": 10,
   "id": "cee830cf-b3e6-4fc1-8999-c3225e66c232",
   "metadata": {},
   "outputs": [
    {
     "data": {
      "text/html": [
       "<pre>[[38.2, 46.5],\n",
       " [32.6, 60.6],\n",
       " [27.1],\n",
       " [40.5, 55.2],\n",
       " [37.9, 57.7],\n",
       " [31.7],\n",
       " [33.7, 57.9],\n",
       " [57.1],\n",
       " [31.4],\n",
       " [46.6, 48.4],\n",
       " ...,\n",
       " [30.3, 32.5],\n",
       " [39.2, 46.8],\n",
       " [40.2],\n",
       " [39.8],\n",
       " [30.1, 48.9],\n",
       " [40.5, 48.2],\n",
       " [34.3, 35.8],\n",
       " [44.2, 47.6],\n",
       " [37.7, 54.9]]\n",
       "--------------------------------------------------------\n",
       "type: 7450 * var * float32[parameters={&quot;__doc__&quot;: &quot;pt&quot;}]</pre>"
      ],
      "text/plain": [
       "<Array [[38.2, 46.5], [...], ..., [37.7, 54.9]] type='7450 * var * float32[...'>"
      ]
     },
     "execution_count": 10,
     "metadata": {},
     "output_type": "execute_result"
    }
   ],
   "source": [
    "out[\"samples\"].el_pt"
   ]
  },
  {
   "cell_type": "code",
   "execution_count": 11,
   "id": "9837b981-d4b0-4cad-983e-c2aecc95dd21",
   "metadata": {},
   "outputs": [
    {
     "name": "stderr",
     "output_type": "stream",
     "text": [
      "/usr/local/lib/python3.11/site-packages/coffea/nanoevents/methods/candidate.py:11: FutureWarning: In version 2024.7.0 (target date: 2024-06-30 11:59:59-05:00), this will be an error.\n",
      "To raise these warnings as errors (and get stack traces to find out where they're called), run\n",
      "    import warnings\n",
      "    warnings.filterwarnings(\"error\", module=\"coffea.*\")\n",
      "after the first `import coffea` or use `@pytest.mark.filterwarnings(\"error:::coffea.*\")` in pytest.\n",
      "Issue: coffea.nanoevents.methods.vector will be removed and replaced with scikit-hep vector. Nanoevents schemas internal to coffea will be migrated. Otherwise please consider using that package!.\n",
      "  from coffea.nanoevents.methods import vector\n"
     ]
    }
   ],
   "source": [
    "out = tnp.get_1d_pt_eta_phi_tnp_histograms(\n",
    "    \"HLT_Ele30_WPTight_Gsf\",\n",
    "    cut_and_count=True,\n",
    "    vars=[\"el_pt\", \"el_eta\", \"el_phi\"],\n",
    "    eta_regions_pt={\n",
    "        \"barrel\": [0.0, 1.4442],\n",
    "        \"endcap_loweta\": [1.566, 2.0],\n",
    "        \"endcap_higheta\": [2.0, 2.5],\n",
    "    },\n",
    "    plateau_cut=35,\n",
    "    compute=True,\n",
    ")"
   ]
  },
  {
   "cell_type": "code",
   "execution_count": 12,
   "id": "32a4db01-31de-4bd3-8e27-17ad13e836a3",
   "metadata": {},
   "outputs": [
    {
     "ename": "MemoryError",
     "evalue": "std::bad_alloc",
     "output_type": "error",
     "traceback": [
      "\u001b[0;31m---------------------------------------------------------------------------\u001b[0m",
      "\u001b[0;31mMemoryError\u001b[0m                               Traceback (most recent call last)",
      "Cell \u001b[0;32mIn[12], line 4\u001b[0m\n\u001b[1;32m      1\u001b[0m \u001b[38;5;66;03m# cut_and_count=True\u001b[39;00m\n\u001b[1;32m      2\u001b[0m \u001b[38;5;66;03m#out = tnp.get_nd_tnp_histograms(\"HLT_Ele30_WPTight_Gsf\", cut_and_count=True, vars=[\"tag_Ele_pt\", \"el_pt\", \"el_eta\", \"MET_pt\", \"luminosityBlock\"], compute=True)\u001b[39;00m\n\u001b[1;32m      3\u001b[0m \u001b[38;5;66;03m# cut_and_count=False\u001b[39;00m\n\u001b[0;32m----> 4\u001b[0m out \u001b[38;5;241m=\u001b[39m \u001b[43mtnp\u001b[49m\u001b[38;5;241;43m.\u001b[39;49m\u001b[43mget_nd_tnp_histograms\u001b[49m\u001b[43m(\u001b[49m\u001b[38;5;124;43m\"\u001b[39;49m\u001b[38;5;124;43mHLT_Ele30_WPTight_Gsf\u001b[39;49m\u001b[38;5;124;43m\"\u001b[39;49m\u001b[43m,\u001b[49m\u001b[43m \u001b[49m\u001b[43mcut_and_count\u001b[49m\u001b[38;5;241;43m=\u001b[39;49m\u001b[38;5;28;43;01mFalse\u001b[39;49;00m\u001b[43m,\u001b[49m\u001b[43m \u001b[49m\u001b[38;5;28;43mvars\u001b[39;49m\u001b[38;5;241;43m=\u001b[39;49m\u001b[43m[\u001b[49m\u001b[38;5;124;43m\"\u001b[39;49m\u001b[38;5;124;43mElectron_pt\u001b[39;49m\u001b[38;5;124;43m\"\u001b[39;49m\u001b[43m,\u001b[49m\u001b[43m \u001b[49m\u001b[38;5;124;43m\"\u001b[39;49m\u001b[38;5;124;43mtag_Ele_pt\u001b[39;49m\u001b[38;5;124;43m\"\u001b[39;49m\u001b[43m,\u001b[49m\u001b[43m \u001b[49m\u001b[38;5;124;43m\"\u001b[39;49m\u001b[38;5;124;43mtag_Ele_eta\u001b[39;49m\u001b[38;5;124;43m\"\u001b[39;49m\u001b[43m,\u001b[49m\u001b[43m \u001b[49m\u001b[38;5;124;43m\"\u001b[39;49m\u001b[38;5;124;43mel_pt\u001b[39;49m\u001b[38;5;124;43m\"\u001b[39;49m\u001b[43m,\u001b[49m\u001b[43m \u001b[49m\u001b[38;5;124;43m\"\u001b[39;49m\u001b[38;5;124;43mel_eta\u001b[39;49m\u001b[38;5;124;43m\"\u001b[39;49m\u001b[43m,\u001b[49m\u001b[43m \u001b[49m\u001b[38;5;124;43m\"\u001b[39;49m\u001b[38;5;124;43mMET_pt\u001b[39;49m\u001b[38;5;124;43m\"\u001b[39;49m\u001b[43m,\u001b[49m\u001b[43m \u001b[49m\u001b[38;5;124;43m\"\u001b[39;49m\u001b[38;5;124;43mluminosityBlock\u001b[39;49m\u001b[38;5;124;43m\"\u001b[39;49m\u001b[43m]\u001b[49m\u001b[43m,\u001b[49m\u001b[43m \u001b[49m\u001b[43mcompute\u001b[49m\u001b[38;5;241;43m=\u001b[39;49m\u001b[38;5;28;43;01mTrue\u001b[39;49;00m\u001b[43m)\u001b[49m\n",
      "File \u001b[0;32m/srv/.env/lib/python3.11/site-packages/egamma_tnp/_base_tagnprobe.py:546\u001b[0m, in \u001b[0;36mBaseTagNProbe.get_nd_tnp_histograms\u001b[0;34m(self, filter, cut_and_count, mass_range, vars, uproot_options, compute, scheduler, progress)\u001b[0m\n\u001b[1;32m    533\u001b[0m \u001b[38;5;28;01melse\u001b[39;00m:\n\u001b[1;32m    534\u001b[0m     data_manipulation \u001b[38;5;241m=\u001b[39m partial(\n\u001b[1;32m    535\u001b[0m         \u001b[38;5;28mself\u001b[39m\u001b[38;5;241m.\u001b[39m_make_mll_histograms,\n\u001b[1;32m    536\u001b[0m         \u001b[38;5;28mfilter\u001b[39m\u001b[38;5;241m=\u001b[39m\u001b[38;5;28mfilter\u001b[39m,\n\u001b[0;32m   (...)\u001b[0m\n\u001b[1;32m    543\u001b[0m         eta_regions_phi\u001b[38;5;241m=\u001b[39m\u001b[38;5;28;01mNone\u001b[39;00m,\n\u001b[1;32m    544\u001b[0m     )\n\u001b[0;32m--> 546\u001b[0m to_compute \u001b[38;5;241m=\u001b[39m \u001b[43mapply_to_fileset\u001b[49m\u001b[43m(\u001b[49m\n\u001b[1;32m    547\u001b[0m \u001b[43m    \u001b[49m\u001b[43mdata_manipulation\u001b[49m\u001b[38;5;241;43m=\u001b[39;49m\u001b[43mdata_manipulation\u001b[49m\u001b[43m,\u001b[49m\n\u001b[1;32m    548\u001b[0m \u001b[43m    \u001b[49m\u001b[43mfileset\u001b[49m\u001b[38;5;241;43m=\u001b[39;49m\u001b[38;5;28;43mself\u001b[39;49m\u001b[38;5;241;43m.\u001b[39;49m\u001b[43mfileset\u001b[49m\u001b[43m,\u001b[49m\n\u001b[1;32m    549\u001b[0m \u001b[43m    \u001b[49m\u001b[43mschemaclass\u001b[49m\u001b[38;5;241;43m=\u001b[39;49m\u001b[38;5;28;43mself\u001b[39;49m\u001b[38;5;241;43m.\u001b[39;49m\u001b[43mschemaclass\u001b[49m\u001b[43m,\u001b[49m\n\u001b[1;32m    550\u001b[0m \u001b[43m    \u001b[49m\u001b[43muproot_options\u001b[49m\u001b[38;5;241;43m=\u001b[39;49m\u001b[43muproot_options\u001b[49m\u001b[43m,\u001b[49m\n\u001b[1;32m    551\u001b[0m \u001b[43m\u001b[49m\u001b[43m)\u001b[49m\n\u001b[1;32m    552\u001b[0m \u001b[38;5;28;01mif\u001b[39;00m compute:\n\u001b[1;32m    553\u001b[0m     \u001b[38;5;28;01mimport\u001b[39;00m \u001b[38;5;21;01mdask\u001b[39;00m\n",
      "File \u001b[0;32m/usr/local/lib/python3.11/site-packages/coffea/dataset_tools/apply_processor.py:125\u001b[0m, in \u001b[0;36mapply_to_fileset\u001b[0;34m(data_manipulation, fileset, schemaclass, uproot_options)\u001b[0m\n\u001b[1;32m    123\u001b[0m     metadata \u001b[38;5;241m=\u001b[39m {}\n\u001b[1;32m    124\u001b[0m metadata\u001b[38;5;241m.\u001b[39msetdefault(\u001b[38;5;124m\"\u001b[39m\u001b[38;5;124mdataset\u001b[39m\u001b[38;5;124m\"\u001b[39m, name)\n\u001b[0;32m--> 125\u001b[0m dataset_out \u001b[38;5;241m=\u001b[39m \u001b[43mapply_to_dataset\u001b[49m\u001b[43m(\u001b[49m\n\u001b[1;32m    126\u001b[0m \u001b[43m    \u001b[49m\u001b[43mdata_manipulation\u001b[49m\u001b[43m,\u001b[49m\u001b[43m \u001b[49m\u001b[43mdataset\u001b[49m\u001b[43m,\u001b[49m\u001b[43m \u001b[49m\u001b[43mschemaclass\u001b[49m\u001b[43m,\u001b[49m\u001b[43m \u001b[49m\u001b[43mmetadata\u001b[49m\u001b[43m,\u001b[49m\u001b[43m \u001b[49m\u001b[43muproot_options\u001b[49m\n\u001b[1;32m    127\u001b[0m \u001b[43m\u001b[49m\u001b[43m)\u001b[49m\n\u001b[1;32m    128\u001b[0m \u001b[38;5;28;01mif\u001b[39;00m \u001b[38;5;28misinstance\u001b[39m(dataset_out, \u001b[38;5;28mtuple\u001b[39m) \u001b[38;5;129;01mand\u001b[39;00m \u001b[38;5;28mlen\u001b[39m(dataset_out) \u001b[38;5;241m>\u001b[39m \u001b[38;5;241m1\u001b[39m:\n\u001b[1;32m    129\u001b[0m     out[name], report[name] \u001b[38;5;241m=\u001b[39m dataset_out\n",
      "File \u001b[0;32m/usr/local/lib/python3.11/site-packages/coffea/dataset_tools/apply_processor.py:83\u001b[0m, in \u001b[0;36mapply_to_dataset\u001b[0;34m(data_manipulation, dataset, schemaclass, metadata, uproot_options)\u001b[0m\n\u001b[1;32m     81\u001b[0m     out \u001b[38;5;241m=\u001b[39m data_manipulation\u001b[38;5;241m.\u001b[39mprocess(events)\n\u001b[1;32m     82\u001b[0m \u001b[38;5;28;01melif\u001b[39;00m \u001b[38;5;28misinstance\u001b[39m(data_manipulation, Callable):\n\u001b[0;32m---> 83\u001b[0m     out \u001b[38;5;241m=\u001b[39m \u001b[43mdata_manipulation\u001b[49m\u001b[43m(\u001b[49m\u001b[43mevents\u001b[49m\u001b[43m)\u001b[49m\n\u001b[1;32m     84\u001b[0m \u001b[38;5;28;01melse\u001b[39;00m:\n\u001b[1;32m     85\u001b[0m     \u001b[38;5;28;01mraise\u001b[39;00m \u001b[38;5;167;01mValueError\u001b[39;00m(\u001b[38;5;124m\"\u001b[39m\u001b[38;5;124mdata_manipulation must either be a ProcessorABC or Callable\u001b[39m\u001b[38;5;124m\"\u001b[39m)\n",
      "File \u001b[0;32m/srv/.env/lib/python3.11/site-packages/egamma_tnp/_base_tagnprobe.py:661\u001b[0m, in \u001b[0;36mBaseTagNProbe._make_mll_histograms\u001b[0;34m(self, events, filter, pt_eta_phi_1d, mass_range, vars, plateau_cut, eta_regions_pt, eta_regions_eta, eta_regions_phi)\u001b[0m\n\u001b[1;32m    651\u001b[0m     \u001b[38;5;28;01mreturn\u001b[39;00m fill_pt_eta_phi_mll_histograms(\n\u001b[1;32m    652\u001b[0m         passing_probes,\n\u001b[1;32m    653\u001b[0m         failing_probes,\n\u001b[0;32m   (...)\u001b[0m\n\u001b[1;32m    658\u001b[0m         \u001b[38;5;28mvars\u001b[39m\u001b[38;5;241m=\u001b[39m\u001b[38;5;28mvars\u001b[39m,\n\u001b[1;32m    659\u001b[0m     )\n\u001b[1;32m    660\u001b[0m \u001b[38;5;28;01melse\u001b[39;00m:\n\u001b[0;32m--> 661\u001b[0m     \u001b[38;5;28;01mreturn\u001b[39;00m \u001b[43mfill_nd_mll_histograms\u001b[49m\u001b[43m(\u001b[49m\n\u001b[1;32m    662\u001b[0m \u001b[43m        \u001b[49m\u001b[43mpassing_probes\u001b[49m\u001b[43m,\u001b[49m\n\u001b[1;32m    663\u001b[0m \u001b[43m        \u001b[49m\u001b[43mfailing_probes\u001b[49m\u001b[43m,\u001b[49m\n\u001b[1;32m    664\u001b[0m \u001b[43m        \u001b[49m\u001b[38;5;28;43mvars\u001b[39;49m\u001b[38;5;241;43m=\u001b[39;49m\u001b[38;5;28;43mvars\u001b[39;49m\u001b[43m,\u001b[49m\n\u001b[1;32m    665\u001b[0m \u001b[43m    \u001b[49m\u001b[43m)\u001b[49m\n",
      "File \u001b[0;32m/srv/.env/lib/python3.11/site-packages/egamma_tnp/utils/histogramming.py:511\u001b[0m, in \u001b[0;36mfill_nd_mll_histograms\u001b[0;34m(passing_probes, failing_probes, vars)\u001b[0m\n\u001b[1;32m    508\u001b[0m axes \u001b[38;5;241m=\u001b[39m [hist\u001b[38;5;241m.\u001b[39maxis\u001b[38;5;241m.\u001b[39mVariable(egamma_tnp\u001b[38;5;241m.\u001b[39mbinning\u001b[38;5;241m.\u001b[39mget(\u001b[38;5;124mf\u001b[39m\u001b[38;5;124m\"\u001b[39m\u001b[38;5;132;01m{\u001b[39;00mvar\u001b[38;5;132;01m}\u001b[39;00m\u001b[38;5;124m_bins\u001b[39m\u001b[38;5;124m\"\u001b[39m), name\u001b[38;5;241m=\u001b[39mvar, label\u001b[38;5;241m=\u001b[39m\u001b[38;5;124mf\u001b[39m\u001b[38;5;124m\"\u001b[39m\u001b[38;5;132;01m{\u001b[39;00mvar\u001b[38;5;241m.\u001b[39mcapitalize()\u001b[38;5;132;01m}\u001b[39;00m\u001b[38;5;124m\"\u001b[39m) \u001b[38;5;28;01mfor\u001b[39;00m var \u001b[38;5;129;01min\u001b[39;00m \u001b[38;5;28mvars\u001b[39m]\n\u001b[1;32m    509\u001b[0m axes\u001b[38;5;241m.\u001b[39mappend(hist\u001b[38;5;241m.\u001b[39maxis\u001b[38;5;241m.\u001b[39mRegular(\u001b[38;5;241m80\u001b[39m, \u001b[38;5;241m50\u001b[39m, \u001b[38;5;241m130\u001b[39m, name\u001b[38;5;241m=\u001b[39m\u001b[38;5;124m\"\u001b[39m\u001b[38;5;124mmll\u001b[39m\u001b[38;5;124m\"\u001b[39m, label\u001b[38;5;241m=\u001b[39m\u001b[38;5;124m\"\u001b[39m\u001b[38;5;124mmll [GeV]\u001b[39m\u001b[38;5;124m\"\u001b[39m))\n\u001b[0;32m--> 511\u001b[0m hpass \u001b[38;5;241m=\u001b[39m \u001b[43mHist\u001b[49m\u001b[43m(\u001b[49m\u001b[38;5;241;43m*\u001b[39;49m\u001b[43maxes\u001b[49m\u001b[43m,\u001b[49m\u001b[43m \u001b[49m\u001b[43mstorage\u001b[49m\u001b[38;5;241;43m=\u001b[39;49m\u001b[43mhist\u001b[49m\u001b[38;5;241;43m.\u001b[39;49m\u001b[43mstorage\u001b[49m\u001b[38;5;241;43m.\u001b[39;49m\u001b[43mWeight\u001b[49m\u001b[43m(\u001b[49m\u001b[43m)\u001b[49m\u001b[43m)\u001b[49m\n\u001b[1;32m    512\u001b[0m hfail \u001b[38;5;241m=\u001b[39m Hist(\u001b[38;5;241m*\u001b[39maxes, storage\u001b[38;5;241m=\u001b[39mhist\u001b[38;5;241m.\u001b[39mstorage\u001b[38;5;241m.\u001b[39mWeight())\n\u001b[1;32m    514\u001b[0m hpass\u001b[38;5;241m.\u001b[39mfill(\u001b[38;5;241m*\u001b[39m[passing_probes[var] \u001b[38;5;28;01mfor\u001b[39;00m var \u001b[38;5;129;01min\u001b[39;00m \u001b[38;5;28mvars\u001b[39m], passing_probes\u001b[38;5;241m.\u001b[39mpair_mass, weight\u001b[38;5;241m=\u001b[39mpassing_probes\u001b[38;5;241m.\u001b[39mweight)\n",
      "File \u001b[0;32m/usr/local/lib/python3.11/site-packages/hist/basehist.py:109\u001b[0m, in \u001b[0;36mBaseHist.__init__\u001b[0;34m(self, storage, metadata, data, label, name, *in_args)\u001b[0m\n\u001b[1;32m    106\u001b[0m     warnings\u001b[38;5;241m.\u001b[39mwarn(msg, stacklevel\u001b[38;5;241m=\u001b[39m\u001b[38;5;241m2\u001b[39m)\n\u001b[1;32m    107\u001b[0m     storage \u001b[38;5;241m=\u001b[39m storage()\n\u001b[0;32m--> 109\u001b[0m \u001b[38;5;28;43msuper\u001b[39;49m\u001b[43m(\u001b[49m\u001b[43m)\u001b[49m\u001b[38;5;241;43m.\u001b[39;49m\u001b[38;5;21;43m__init__\u001b[39;49m\u001b[43m(\u001b[49m\u001b[38;5;241;43m*\u001b[39;49m\u001b[43margs\u001b[49m\u001b[43m,\u001b[49m\u001b[43m \u001b[49m\u001b[43mstorage\u001b[49m\u001b[38;5;241;43m=\u001b[39;49m\u001b[43mstorage\u001b[49m\u001b[43m,\u001b[49m\u001b[43m \u001b[49m\u001b[43mmetadata\u001b[49m\u001b[38;5;241;43m=\u001b[39;49m\u001b[43mmetadata\u001b[49m\u001b[43m)\u001b[49m  \u001b[38;5;66;03m# type: ignore[call-overload]\u001b[39;00m\n\u001b[1;32m    111\u001b[0m disallowed_names \u001b[38;5;241m=\u001b[39m {\u001b[38;5;124m\"\u001b[39m\u001b[38;5;124mweight\u001b[39m\u001b[38;5;124m\"\u001b[39m, \u001b[38;5;124m\"\u001b[39m\u001b[38;5;124msample\u001b[39m\u001b[38;5;124m\"\u001b[39m, \u001b[38;5;124m\"\u001b[39m\u001b[38;5;124mthreads\u001b[39m\u001b[38;5;124m\"\u001b[39m}\n\u001b[1;32m    112\u001b[0m \u001b[38;5;28;01mfor\u001b[39;00m ax \u001b[38;5;129;01min\u001b[39;00m \u001b[38;5;28mself\u001b[39m\u001b[38;5;241m.\u001b[39maxes:\n",
      "File \u001b[0;32m/usr/local/lib/python3.11/site-packages/dask_histogram/boost.py:93\u001b[0m, in \u001b[0;36mHistogram.__init__\u001b[0;34m(self, storage, metadata, split_every, *axes)\u001b[0m\n\u001b[1;32m     85\u001b[0m \u001b[38;5;28;01mdef\u001b[39;00m \u001b[38;5;21m__init__\u001b[39m(\n\u001b[1;32m     86\u001b[0m     \u001b[38;5;28mself\u001b[39m,\n\u001b[1;32m     87\u001b[0m     \u001b[38;5;241m*\u001b[39maxes: bh\u001b[38;5;241m.\u001b[39maxis\u001b[38;5;241m.\u001b[39mAxis,\n\u001b[0;32m   (...)\u001b[0m\n\u001b[1;32m     90\u001b[0m     split_every: \u001b[38;5;28mint\u001b[39m \u001b[38;5;241m|\u001b[39m \u001b[38;5;28;01mNone\u001b[39;00m \u001b[38;5;241m=\u001b[39m \u001b[38;5;28;01mNone\u001b[39;00m,\n\u001b[1;32m     91\u001b[0m ) \u001b[38;5;241m-\u001b[39m\u001b[38;5;241m>\u001b[39m \u001b[38;5;28;01mNone\u001b[39;00m:\n\u001b[1;32m     92\u001b[0m \u001b[38;5;250m    \u001b[39m\u001b[38;5;124;03m\"\"\"Construct a Histogram object.\"\"\"\u001b[39;00m\n\u001b[0;32m---> 93\u001b[0m     \u001b[38;5;28;43msuper\u001b[39;49m\u001b[43m(\u001b[49m\u001b[43m)\u001b[49m\u001b[38;5;241;43m.\u001b[39;49m\u001b[38;5;21;43m__init__\u001b[39;49m\u001b[43m(\u001b[49m\u001b[38;5;241;43m*\u001b[39;49m\u001b[43maxes\u001b[49m\u001b[43m,\u001b[49m\u001b[43m \u001b[49m\u001b[43mstorage\u001b[49m\u001b[38;5;241;43m=\u001b[39;49m\u001b[43mstorage\u001b[49m\u001b[43m,\u001b[49m\u001b[43m \u001b[49m\u001b[43mmetadata\u001b[49m\u001b[38;5;241;43m=\u001b[39;49m\u001b[43mmetadata\u001b[49m\u001b[43m)\u001b[49m\n\u001b[1;32m     94\u001b[0m     \u001b[38;5;28mself\u001b[39m\u001b[38;5;241m.\u001b[39m_staged: AggHistogram \u001b[38;5;241m|\u001b[39m \u001b[38;5;28;01mNone\u001b[39;00m \u001b[38;5;241m=\u001b[39m \u001b[38;5;28;01mNone\u001b[39;00m\n\u001b[1;32m     95\u001b[0m     \u001b[38;5;28mself\u001b[39m\u001b[38;5;241m.\u001b[39m_dask_name: \u001b[38;5;28mstr\u001b[39m \u001b[38;5;241m|\u001b[39m \u001b[38;5;28;01mNone\u001b[39;00m \u001b[38;5;241m=\u001b[39m (\n\u001b[1;32m     96\u001b[0m         \u001b[38;5;124mf\u001b[39m\u001b[38;5;124m\"\u001b[39m\u001b[38;5;124mempty-histogram-\u001b[39m\u001b[38;5;132;01m{\u001b[39;00mtokenize(\u001b[38;5;241m*\u001b[39maxes,\u001b[38;5;250m \u001b[39mstorage,\u001b[38;5;250m \u001b[39mmetadata)\u001b[38;5;132;01m}\u001b[39;00m\u001b[38;5;124m\"\u001b[39m\n\u001b[1;32m     97\u001b[0m     )\n",
      "File \u001b[0;32m/usr/local/lib/python3.11/site-packages/boost_histogram/_internal/hist.py:244\u001b[0m, in \u001b[0;36mHistogram.__init__\u001b[0;34m(self, storage, metadata, *axes)\u001b[0m\n\u001b[1;32m    242\u001b[0m \u001b[38;5;28;01mfor\u001b[39;00m h \u001b[38;5;129;01min\u001b[39;00m _histograms:\n\u001b[1;32m    243\u001b[0m     \u001b[38;5;28;01mif\u001b[39;00m \u001b[38;5;28misinstance\u001b[39m(storage, h\u001b[38;5;241m.\u001b[39m_storage_type):\n\u001b[0;32m--> 244\u001b[0m         \u001b[38;5;28mself\u001b[39m\u001b[38;5;241m.\u001b[39m_hist \u001b[38;5;241m=\u001b[39m \u001b[43mh\u001b[49m\u001b[43m(\u001b[49m\u001b[43maxes\u001b[49m\u001b[43m,\u001b[49m\u001b[43m \u001b[49m\u001b[43mstorage\u001b[49m\u001b[43m)\u001b[49m  \u001b[38;5;66;03m# type: ignore[arg-type]\u001b[39;00m\n\u001b[1;32m    245\u001b[0m         \u001b[38;5;28mself\u001b[39m\u001b[38;5;241m.\u001b[39maxes \u001b[38;5;241m=\u001b[39m \u001b[38;5;28mself\u001b[39m\u001b[38;5;241m.\u001b[39m_generate_axes_()\n\u001b[1;32m    246\u001b[0m         \u001b[38;5;28;01mreturn\u001b[39;00m\n",
      "\u001b[0;31mMemoryError\u001b[0m: std::bad_alloc"
     ]
    }
   ],
   "source": [
    "# cut_and_count=True\n",
    "#out = tnp.get_nd_tnp_histograms(\"HLT_Ele30_WPTight_Gsf\", cut_and_count=True, vars=[\"tag_Ele_pt\", \"el_pt\", \"el_eta\", \"MET_pt\", \"luminosityBlock\"], compute=True)\n",
    "# cut_and_count=False\n",
    "out = tnp.get_nd_tnp_histograms(\"HLT_Ele30_WPTight_Gsf\", cut_and_count=False, vars=[\"Electron_pt\", \"tag_Ele_pt\", \"tag_Ele_eta\", \"el_pt\", \"el_eta\", \"MET_pt\", \"luminosityBlock\"], compute=True)"
   ]
  },
  {
   "cell_type": "code",
   "execution_count": null,
   "id": "9620bd28-4e62-4b21-b4e9-6e9c6679240f",
   "metadata": {},
   "outputs": [],
   "source": [
    "print(out)"
   ]
  },
  {
   "cell_type": "code",
   "execution_count": null,
   "id": "fddb5439-9969-442c-932b-7f40961bb886",
   "metadata": {},
   "outputs": [],
   "source": [
    "# Tag electron p_T\n",
    "out[\"samples\"][\"passing\"].project(\"tag_Ele_pt\").plot()\n",
    "out[\"samples\"][\"failing\"].project(\"tag_Ele_pt\").plot()\n",
    "plt.show()"
   ]
  },
  {
   "cell_type": "code",
   "execution_count": null,
   "id": "654d2c2e-b14f-4113-8380-ef97838fe4da",
   "metadata": {},
   "outputs": [],
   "source": [
    "# Probe electron p_T\n",
    "out[\"samples\"][\"passing\"].project(\"el_pt\").plot()\n",
    "out[\"samples\"][\"failing\"].project(\"el_pt\").plot()\n",
    "plt.show()"
   ]
  },
  {
   "cell_type": "code",
   "execution_count": null,
   "id": "4a8b8d86-da35-427a-bb97-e06af8397f52",
   "metadata": {},
   "outputs": [],
   "source": [
    "# MET p_T\n",
    "out[\"samples\"][\"passing\"].project(\"MET_pt\").plot()\n",
    "out[\"samples\"][\"failing\"].project(\"MET_pt\").plot()\n",
    "plt.show()"
   ]
  },
  {
   "cell_type": "code",
   "execution_count": null,
   "id": "9913af46-a507-4d92-9583-f5a85ce9b800",
   "metadata": {},
   "outputs": [],
   "source": [
    "out[\"samples\"].project(\"pair_mass\").plot()\n",
    "out[\"samples\"].project(\"pair_mass\").plot()\n",
    "plt.show()"
   ]
  },
  {
   "cell_type": "code",
   "execution_count": null,
   "id": "f1921c7d-e141-45a8-bd97-b5f2542ef3ef",
   "metadata": {},
   "outputs": [],
   "source": [
    "# efficiency vs. probe p_T\n",
    "plot_efficiency(out[\"samples\"][\"passing\"].project(\"el_pt\"), out[\"samples\"][\"failing\"].project(\"el_pt\"))\n",
    "plt.xlim(0.0, 100.0)\n",
    "plt.ylim(-0.1, 1.1)\n",
    "plt.title(\"Electron Efficiency vs. probe p_T\")\n",
    "plt.show()"
   ]
  },
  {
   "cell_type": "code",
   "execution_count": null,
   "id": "4a161f94-88ed-46ff-abbb-4f0ac36c5ab4",
   "metadata": {},
   "outputs": [],
   "source": [
    "# efficiency vs. probe eta\n",
    "plot_efficiency(out[\"samples\"][\"passing\"].project(\"el_eta\"), out[\"samples\"][\"failing\"].project(\"el_eta\"))\n",
    "plt.xlim(-3.0, 3.0)\n",
    "plt.ylim(-0.1, 1.1)\n",
    "plt.title(\"Electron Efficiency vs. probe eta\")\n",
    "plt.show()"
   ]
  },
  {
   "cell_type": "code",
   "execution_count": null,
   "id": "b904ccbd-7811-4b89-9023-30f460094e00",
   "metadata": {},
   "outputs": [],
   "source": []
  }
 ],
 "metadata": {
  "kernelspec": {
   "display_name": "Python 3 (ipykernel)",
   "language": "python",
   "name": "python3"
  },
  "language_info": {
   "codemirror_mode": {
    "name": "ipython",
    "version": 3
   },
   "file_extension": ".py",
   "mimetype": "text/x-python",
   "name": "python",
   "nbconvert_exporter": "python",
   "pygments_lexer": "ipython3",
   "version": "3.11.9"
  }
 },
 "nbformat": 4,
 "nbformat_minor": 5
}
