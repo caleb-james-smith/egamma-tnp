{
 "cells": [
  {
   "cell_type": "markdown",
   "id": "396626dc",
   "metadata": {},
   "source": [
    "## E/Gamma HLT efficiency from NanoAOD using Tag and Probe."
   ]
  },
  {
   "cell_type": "markdown",
   "id": "af6686ec",
   "metadata": {},
   "source": [
    "In this tutorial, we explain the basic usage of this package to perform efficiency measurements of single electron triggers using tag and probe.\n",
    "\n",
    "To setup this package please follow the README in the package's [Github repository](https://github.com/iasonkrom/egamma-tnp). We will first showcase the usage using 2 root files locally and then showcase how the package is meant to be used on a cluster (like LPC or LXPLUS).\n",
    "\n",
    "Let's start by importing some stuff and setting some plotting parameters. The important things here are `TagNProbe` and `plot_efficiency`. The rest are just for plotting customization."
   ]
  },
  {
   "cell_type": "code",
   "execution_count": null,
   "id": "ac019152-3b1f-40e7-b09b-f40390052972",
   "metadata": {
    "tags": []
   },
   "outputs": [],
   "source": [
    "import dask_awkward as dak  # This is not required. It's for showcasing purposes\n",
    "import mplhep as hep\n",
    "from egamma_tnp import TagNProbe\n",
    "from egamma_tnp.plot import plot_efficiency\n",
    "from matplotlib import pyplot as plt\n",
    "\n",
    "hep.style.use(\"CMS\")\n",
    "hep.style.use({\"font.size\": 16})\n",
    "hep.style.use({\"figure.figsize\": (6.4, 4.8)})"
   ]
  },
  {
   "cell_type": "markdown",
   "id": "bc59e4ed",
   "metadata": {},
   "source": [
    "The main thing that we are gonna use is the `TagNProbe` object. Let's look at it's docstrings."
   ]
  },
  {
   "cell_type": "code",
   "execution_count": null,
   "id": "18f77b68",
   "metadata": {},
   "outputs": [],
   "source": [
    "help(TagNProbe)"
   ]
  },
  {
   "cell_type": "markdown",
   "id": "4ba6ad73",
   "metadata": {},
   "source": [
    "Let's therefore define such an object passing in a list of two local root files, a Pt threshold of 32 and a golden json file path. We must also set `toquery` and `redirect` to `False` because these files are local and we don't want to query `rucio` for those files nor change their `xrootd` redirector.\n",
    "\n",
    "After that, we need to load those events using the `load_events()` method."
   ]
  },
  {
   "cell_type": "code",
   "execution_count": null,
   "id": "af0fcf1d",
   "metadata": {
    "tags": []
   },
   "outputs": [],
   "source": [
    "%%time\n",
    "\n",
    "tag_n_probe = TagNProbe(\n",
    "    [\"../root_files/Egamma0.root\", \"../root_files/Egamma1.root\"],\n",
    "    32,\n",
    "    goldenjson=\"../json/Cert_Collisions2023_366442_368823_Golden.json\",\n",
    "    toquery=False,\n",
    "    redirect=False,\n",
    ")\n",
    "\n",
    "tag_n_probe.load_events()\n",
    "tag_n_probe"
   ]
  },
  {
   "cell_type": "markdown",
   "id": "32079be0",
   "metadata": {},
   "source": [
    "We can ask from this object to give us the $P_T$ and $\\eta$ histograms of the probes that pass trigger matching and all the probes. This is done using the `get_tnp_histograms()` method."
   ]
  },
  {
   "cell_type": "code",
   "execution_count": null,
   "id": "43aa5ac6",
   "metadata": {},
   "outputs": [],
   "source": [
    "%%time\n",
    "\n",
    "(\n",
    "    hpt_pass,\n",
    "    hpt_all,\n",
    "    heta_pass,\n",
    "    heta_all,\n",
    ") = tag_n_probe.get_tnp_histograms()\n",
    "\n",
    "print(f\"Passing probes: {hpt_pass.sum(flow=True)}\")\n",
    "print(f\"All probes: {hpt_all.sum(flow=True)}\")"
   ]
  },
  {
   "cell_type": "markdown",
   "id": "3376716e",
   "metadata": {},
   "source": [
    "Wow, why did this run so quickly and why is the number of probes zero? What happened here? Let's look at one of those histograms."
   ]
  },
  {
   "cell_type": "code",
   "execution_count": null,
   "id": "16b99de1",
   "metadata": {},
   "outputs": [],
   "source": [
    "hpt_pass"
   ]
  },
  {
   "cell_type": "markdown",
   "id": "795ed374",
   "metadata": {},
   "source": [
    "It's actually empty yet. The reason for that is that it's actually a dask histogram object that hasn't been filled yet."
   ]
  },
  {
   "cell_type": "code",
   "execution_count": null,
   "id": "b98f0429",
   "metadata": {},
   "outputs": [],
   "source": [
    "print(type(hpt_pass))\n",
    "print(hpt_pass.staged_fills())"
   ]
  },
  {
   "cell_type": "markdown",
   "id": "a5b7628b",
   "metadata": {},
   "source": [
    "That means it's actually a dask task graph yet and not a materialized histogram. We can actually visualize this graph!"
   ]
  },
  {
   "cell_type": "code",
   "execution_count": null,
   "id": "b2c24771",
   "metadata": {},
   "outputs": [],
   "source": [
    "hpt_pass.visualize(\"graph.pdf\", optimize_graph=False)"
   ]
  },
  {
   "cell_type": "markdown",
   "id": "418293a1",
   "metadata": {},
   "source": [
    "To actually perform the computation and get the materialized histograms (may take time!), we can call `.compute()` on them or do `dask.compute(*histograms)`. Luckily, we provide a shortcut for this when using `get_tnp_histograms()` where we can just pass `compute=True` as an argument. Users can also choose whether they want to get a progress bar and can also choose what dask scheduler they want to use."
   ]
  },
  {
   "cell_type": "code",
   "execution_count": null,
   "id": "550a4a97",
   "metadata": {},
   "outputs": [],
   "source": [
    "%%time\n",
    "\n",
    "(\n",
    "    hpt_pass,\n",
    "    hpt_all,\n",
    "    heta_pass,\n",
    "    heta_all,\n",
    ") = tag_n_probe.get_tnp_histograms(compute=True, scheduler=None, progress=True)\n",
    "\n",
    "print(f\"Passing probes: {hpt_pass.sum(flow=True)}\")\n",
    "print(f\"All probes: {hpt_all.sum(flow=True)}\")"
   ]
  },
  {
   "cell_type": "code",
   "execution_count": null,
   "id": "44ea3308",
   "metadata": {},
   "outputs": [],
   "source": [
    "hpt_pass"
   ]
  },
  {
   "cell_type": "markdown",
   "id": "86aa0013",
   "metadata": {},
   "source": [
    "Now we can actually see a number of passing and all probes and that the histograms are actually materialized. `scheduler=None` will use the default scheduler but other scheduler options are available. More info can be found [here](https://docs.dask.org/en/stable/scheduler-overview.html)."
   ]
  },
  {
   "cell_type": "markdown",
   "id": "8cf50c5e",
   "metadata": {},
   "source": [
    "A distributed Client can also be used to perform the computation. Let's do the necessary import. This is how we're also gonna submit jobs to the LPC condor farm."
   ]
  },
  {
   "cell_type": "code",
   "execution_count": null,
   "id": "3143a8a3",
   "metadata": {},
   "outputs": [],
   "source": [
    "from distributed import Client"
   ]
  },
  {
   "cell_type": "markdown",
   "id": "475bb88c",
   "metadata": {},
   "source": [
    "Then we can just spawn a `Client` to do all the computations (`client=Client()`) or use it as a context manager (`with Client() as client:`). More basic examples of dask client usage can be found [here](https://distributed.dask.org/en/latest/client.html)."
   ]
  },
  {
   "cell_type": "code",
   "execution_count": null,
   "id": "8ff15845",
   "metadata": {},
   "outputs": [],
   "source": [
    "client = Client()"
   ]
  },
  {
   "cell_type": "code",
   "execution_count": null,
   "id": "5d4a0e47",
   "metadata": {},
   "outputs": [],
   "source": [
    "%%time\n",
    "\n",
    "(\n",
    "    hpt_pass,\n",
    "    hpt_all,\n",
    "    heta_pass,\n",
    "    heta_all,\n",
    ") = tag_n_probe.get_tnp_histograms(compute=True)\n",
    "\n",
    "print(f\"Passing probes: {hpt_pass.sum(flow=True)}\")\n",
    "print(f\"All probes: {hpt_all.sum(flow=True)}\")"
   ]
  },
  {
   "cell_type": "markdown",
   "id": "8d77e950",
   "metadata": {},
   "source": [
    "And now that we have our histograms we can plot them."
   ]
  },
  {
   "cell_type": "code",
   "execution_count": null,
   "id": "dc7ff5b8-3451-4e73-8310-85e1a350b5f1",
   "metadata": {},
   "outputs": [],
   "source": [
    "hpt_pass.plot1d(label=\"passing probes\", flow=\"none\")\n",
    "hpt_all.plot1d(label=\"all probes\", flow=\"none\")\n",
    "plt.xlim(5, 400)\n",
    "plt.xlabel(r\"$P_T$ [GeV]\")\n",
    "plt.ylabel(r\"Counts\")\n",
    "plt.legend()\n",
    "hep.cms.label(\"Preliminary\", data=True, lumi=\"X\", year=2023, com=13.6)\n",
    "plt.show()"
   ]
  },
  {
   "cell_type": "code",
   "execution_count": null,
   "id": "8daaba11-6bd4-421b-9e1d-cf959e44e40a",
   "metadata": {},
   "outputs": [],
   "source": [
    "heta_pass.plot1d(label=\"passing probes\", flow=\"none\")\n",
    "heta_all.plot1d(label=\"all probes\", flow=\"none\")\n",
    "plt.xlim(-2.5, 2.5)\n",
    "plt.xlabel(r\"$\\eta$\")\n",
    "plt.ylabel(r\"Counts\")\n",
    "plt.legend()\n",
    "hep.cms.label(\"Preliminary\", data=True, lumi=\"X\", year=2023, com=13.6)\n",
    "plt.show()"
   ]
  },
  {
   "cell_type": "markdown",
   "id": "d21059fd",
   "metadata": {},
   "source": [
    "To get the efficiency plots, we will just use the `plot_efficiency` function that we imported earlier."
   ]
  },
  {
   "cell_type": "code",
   "execution_count": null,
   "id": "f89c25b7",
   "metadata": {},
   "outputs": [],
   "source": [
    "help(plot_efficiency)"
   ]
  },
  {
   "cell_type": "code",
   "execution_count": null,
   "id": "cb9fb23e",
   "metadata": {},
   "outputs": [],
   "source": [
    "plot_efficiency(hpt_pass, hpt_all)\n",
    "hep.cms.label(\"Preliminary\", data=True, lumi=\"X\", year=2023, com=13.6)\n",
    "plt.xlim(5, 400)\n",
    "plt.xlabel(r\"$P_T$ [GeV]\")\n",
    "plt.ylabel(r\"Efficiency\")\n",
    "plt.xscale(\"log\")\n",
    "plt.show()"
   ]
  },
  {
   "cell_type": "code",
   "execution_count": null,
   "id": "f2312110",
   "metadata": {
    "tags": []
   },
   "outputs": [],
   "source": [
    "plot_efficiency(heta_pass, heta_all)\n",
    "hep.cms.label(\"Preliminary\", data=True, lumi=\"X\", year=2023, com=13.6)\n",
    "plt.xlim(-2.5, 2.5)\n",
    "plt.xlabel(r\"$\\eta$\")\n",
    "plt.ylabel(r\"Efficiency\")\n",
    "plt.show()"
   ]
  },
  {
   "cell_type": "markdown",
   "id": "fd79aff5",
   "metadata": {},
   "source": [
    "Now that we've showcased the basic usage locally, let's move into a cluster. For the setup, please consult the README."
   ]
  },
  {
   "cell_type": "markdown",
   "id": "8d77b8e8",
   "metadata": {},
   "source": [
    "Of course the initial imports are required and then we start up a distributed dask `Client`. If you have port-forwarded port 8787 during your ssh login, then you can monitor the progress of your computation using the dask dashboard at http://localhost:8787/."
   ]
  },
  {
   "cell_type": "code",
   "execution_count": 1,
   "id": "038cac23",
   "metadata": {
    "tags": []
   },
   "outputs": [
    {
     "name": "stderr",
     "output_type": "stream",
     "text": [
      "/srv/.env/lib/python3.8/site-packages/requests/__init__.py:102: RequestsDependencyWarning: urllib3 (1.26.7) or chardet (5.1.0)/charset_normalizer (2.0.9) doesn't match a supported version!\n",
      "  warnings.warn(\"urllib3 ({}) or chardet ({})/charset_normalizer ({}) doesn't match a supported \"\n"
     ]
    }
   ],
   "source": [
    "import mplhep as hep\n",
    "from egamma_tnp import TagNProbe\n",
    "from egamma_tnp.plot import plot_efficiency\n",
    "from matplotlib import pyplot as plt\n",
    "\n",
    "hep.style.use(\"CMS\")\n",
    "hep.style.use({\"font.size\": 16})\n",
    "hep.style.use({\"figure.figsize\": (6.4, 4.8)})"
   ]
  },
  {
   "cell_type": "markdown",
   "id": "30f67d97-fb4f-4048-90ec-1ea3be3fbc44",
   "metadata": {},
   "source": [
    "We fire up a `Client` and we can also use the condor farm on LPC if we have `lpcjobqueue` installed. For instructions on how to install it, please consult the README."
   ]
  },
  {
   "cell_type": "code",
   "execution_count": 2,
   "id": "52bbe426",
   "metadata": {
    "tags": []
   },
   "outputs": [
    {
     "data": {
      "text/html": [
       "<div>\n",
       "    <div style=\"width: 24px; height: 24px; background-color: #e1e1e1; border: 3px solid #9D9D9D; border-radius: 5px; position: absolute;\"> </div>\n",
       "    <div style=\"margin-left: 48px;\">\n",
       "        <h3 style=\"margin-bottom: 0px;\">Client</h3>\n",
       "        <p style=\"color: #9D9D9D; margin-bottom: 0px;\">Client-a823e463-295d-11ee-82a0-fa163e1e1651</p>\n",
       "        <table style=\"width: 100%; text-align: left;\">\n",
       "\n",
       "        <tr>\n",
       "        \n",
       "            <td style=\"text-align: left;\"><strong>Connection method:</strong> Cluster object</td>\n",
       "            <td style=\"text-align: left;\"><strong>Cluster type:</strong> distributed.LocalCluster</td>\n",
       "        \n",
       "        </tr>\n",
       "\n",
       "        \n",
       "            <tr>\n",
       "                <td style=\"text-align: left;\">\n",
       "                    <strong>Dashboard: </strong> <a href=\"http://127.0.0.1:8787/status\" target=\"_blank\">http://127.0.0.1:8787/status</a>\n",
       "                </td>\n",
       "                <td style=\"text-align: left;\"></td>\n",
       "            </tr>\n",
       "        \n",
       "\n",
       "        </table>\n",
       "\n",
       "        \n",
       "            <button style=\"margin-bottom: 12px;\" data-commandlinker-command=\"dask:populate-and-launch-layout\" data-commandlinker-args='{\"url\": \"http://127.0.0.1:8787/status\" }'>\n",
       "                Launch dashboard in JupyterLab\n",
       "            </button>\n",
       "        \n",
       "\n",
       "        \n",
       "            <details>\n",
       "            <summary style=\"margin-bottom: 20px;\"><h3 style=\"display: inline;\">Cluster Info</h3></summary>\n",
       "            <div class=\"jp-RenderedHTMLCommon jp-RenderedHTML jp-mod-trusted jp-OutputArea-output\">\n",
       "    <div style=\"width: 24px; height: 24px; background-color: #e1e1e1; border: 3px solid #9D9D9D; border-radius: 5px; position: absolute;\">\n",
       "    </div>\n",
       "    <div style=\"margin-left: 48px;\">\n",
       "        <h3 style=\"margin-bottom: 0px; margin-top: 0px;\">LocalCluster</h3>\n",
       "        <p style=\"color: #9D9D9D; margin-bottom: 0px;\">1667e572</p>\n",
       "        <table style=\"width: 100%; text-align: left;\">\n",
       "            <tr>\n",
       "                <td style=\"text-align: left;\">\n",
       "                    <strong>Dashboard:</strong> <a href=\"http://127.0.0.1:8787/status\" target=\"_blank\">http://127.0.0.1:8787/status</a>\n",
       "                </td>\n",
       "                <td style=\"text-align: left;\">\n",
       "                    <strong>Workers:</strong> 5\n",
       "                </td>\n",
       "            </tr>\n",
       "            <tr>\n",
       "                <td style=\"text-align: left;\">\n",
       "                    <strong>Total threads:</strong> 10\n",
       "                </td>\n",
       "                <td style=\"text-align: left;\">\n",
       "                    <strong>Total memory:</strong> 28.60 GiB\n",
       "                </td>\n",
       "            </tr>\n",
       "            \n",
       "            <tr>\n",
       "    <td style=\"text-align: left;\"><strong>Status:</strong> running</td>\n",
       "    <td style=\"text-align: left;\"><strong>Using processes:</strong> True</td>\n",
       "</tr>\n",
       "\n",
       "            \n",
       "        </table>\n",
       "\n",
       "        <details>\n",
       "            <summary style=\"margin-bottom: 20px;\">\n",
       "                <h3 style=\"display: inline;\">Scheduler Info</h3>\n",
       "            </summary>\n",
       "\n",
       "            <div style=\"\">\n",
       "    <div>\n",
       "        <div style=\"width: 24px; height: 24px; background-color: #FFF7E5; border: 3px solid #FF6132; border-radius: 5px; position: absolute;\"> </div>\n",
       "        <div style=\"margin-left: 48px;\">\n",
       "            <h3 style=\"margin-bottom: 0px;\">Scheduler</h3>\n",
       "            <p style=\"color: #9D9D9D; margin-bottom: 0px;\">Scheduler-9f650265-15dc-41c5-9cd7-1cc3884e3d25</p>\n",
       "            <table style=\"width: 100%; text-align: left;\">\n",
       "                <tr>\n",
       "                    <td style=\"text-align: left;\">\n",
       "                        <strong>Comm:</strong> tcp://127.0.0.1:39216\n",
       "                    </td>\n",
       "                    <td style=\"text-align: left;\">\n",
       "                        <strong>Workers:</strong> 5\n",
       "                    </td>\n",
       "                </tr>\n",
       "                <tr>\n",
       "                    <td style=\"text-align: left;\">\n",
       "                        <strong>Dashboard:</strong> <a href=\"http://127.0.0.1:8787/status\" target=\"_blank\">http://127.0.0.1:8787/status</a>\n",
       "                    </td>\n",
       "                    <td style=\"text-align: left;\">\n",
       "                        <strong>Total threads:</strong> 10\n",
       "                    </td>\n",
       "                </tr>\n",
       "                <tr>\n",
       "                    <td style=\"text-align: left;\">\n",
       "                        <strong>Started:</strong> Just now\n",
       "                    </td>\n",
       "                    <td style=\"text-align: left;\">\n",
       "                        <strong>Total memory:</strong> 28.60 GiB\n",
       "                    </td>\n",
       "                </tr>\n",
       "            </table>\n",
       "        </div>\n",
       "    </div>\n",
       "\n",
       "    <details style=\"margin-left: 48px;\">\n",
       "        <summary style=\"margin-bottom: 20px;\">\n",
       "            <h3 style=\"display: inline;\">Workers</h3>\n",
       "        </summary>\n",
       "\n",
       "        \n",
       "        <div style=\"margin-bottom: 20px;\">\n",
       "            <div style=\"width: 24px; height: 24px; background-color: #DBF5FF; border: 3px solid #4CC9FF; border-radius: 5px; position: absolute;\"> </div>\n",
       "            <div style=\"margin-left: 48px;\">\n",
       "            <details>\n",
       "                <summary>\n",
       "                    <h4 style=\"margin-bottom: 0px; display: inline;\">Worker: 0</h4>\n",
       "                </summary>\n",
       "                <table style=\"width: 100%; text-align: left;\">\n",
       "                    <tr>\n",
       "                        <td style=\"text-align: left;\">\n",
       "                            <strong>Comm: </strong> tcp://127.0.0.1:34660\n",
       "                        </td>\n",
       "                        <td style=\"text-align: left;\">\n",
       "                            <strong>Total threads: </strong> 2\n",
       "                        </td>\n",
       "                    </tr>\n",
       "                    <tr>\n",
       "                        <td style=\"text-align: left;\">\n",
       "                            <strong>Dashboard: </strong> <a href=\"http://127.0.0.1:36647/status\" target=\"_blank\">http://127.0.0.1:36647/status</a>\n",
       "                        </td>\n",
       "                        <td style=\"text-align: left;\">\n",
       "                            <strong>Memory: </strong> 5.72 GiB\n",
       "                        </td>\n",
       "                    </tr>\n",
       "                    <tr>\n",
       "                        <td style=\"text-align: left;\">\n",
       "                            <strong>Nanny: </strong> tcp://127.0.0.1:41988\n",
       "                        </td>\n",
       "                        <td style=\"text-align: left;\"></td>\n",
       "                    </tr>\n",
       "                    <tr>\n",
       "                        <td colspan=\"2\" style=\"text-align: left;\">\n",
       "                            <strong>Local directory: </strong> /tmp/ikrommyd/dask-scratch-space/worker-ozl4jy_d\n",
       "                        </td>\n",
       "                    </tr>\n",
       "\n",
       "                    \n",
       "\n",
       "                    \n",
       "\n",
       "                </table>\n",
       "            </details>\n",
       "            </div>\n",
       "        </div>\n",
       "        \n",
       "        <div style=\"margin-bottom: 20px;\">\n",
       "            <div style=\"width: 24px; height: 24px; background-color: #DBF5FF; border: 3px solid #4CC9FF; border-radius: 5px; position: absolute;\"> </div>\n",
       "            <div style=\"margin-left: 48px;\">\n",
       "            <details>\n",
       "                <summary>\n",
       "                    <h4 style=\"margin-bottom: 0px; display: inline;\">Worker: 1</h4>\n",
       "                </summary>\n",
       "                <table style=\"width: 100%; text-align: left;\">\n",
       "                    <tr>\n",
       "                        <td style=\"text-align: left;\">\n",
       "                            <strong>Comm: </strong> tcp://127.0.0.1:36034\n",
       "                        </td>\n",
       "                        <td style=\"text-align: left;\">\n",
       "                            <strong>Total threads: </strong> 2\n",
       "                        </td>\n",
       "                    </tr>\n",
       "                    <tr>\n",
       "                        <td style=\"text-align: left;\">\n",
       "                            <strong>Dashboard: </strong> <a href=\"http://127.0.0.1:43072/status\" target=\"_blank\">http://127.0.0.1:43072/status</a>\n",
       "                        </td>\n",
       "                        <td style=\"text-align: left;\">\n",
       "                            <strong>Memory: </strong> 5.72 GiB\n",
       "                        </td>\n",
       "                    </tr>\n",
       "                    <tr>\n",
       "                        <td style=\"text-align: left;\">\n",
       "                            <strong>Nanny: </strong> tcp://127.0.0.1:45352\n",
       "                        </td>\n",
       "                        <td style=\"text-align: left;\"></td>\n",
       "                    </tr>\n",
       "                    <tr>\n",
       "                        <td colspan=\"2\" style=\"text-align: left;\">\n",
       "                            <strong>Local directory: </strong> /tmp/ikrommyd/dask-scratch-space/worker-c4yk1os1\n",
       "                        </td>\n",
       "                    </tr>\n",
       "\n",
       "                    \n",
       "\n",
       "                    \n",
       "\n",
       "                </table>\n",
       "            </details>\n",
       "            </div>\n",
       "        </div>\n",
       "        \n",
       "        <div style=\"margin-bottom: 20px;\">\n",
       "            <div style=\"width: 24px; height: 24px; background-color: #DBF5FF; border: 3px solid #4CC9FF; border-radius: 5px; position: absolute;\"> </div>\n",
       "            <div style=\"margin-left: 48px;\">\n",
       "            <details>\n",
       "                <summary>\n",
       "                    <h4 style=\"margin-bottom: 0px; display: inline;\">Worker: 2</h4>\n",
       "                </summary>\n",
       "                <table style=\"width: 100%; text-align: left;\">\n",
       "                    <tr>\n",
       "                        <td style=\"text-align: left;\">\n",
       "                            <strong>Comm: </strong> tcp://127.0.0.1:41430\n",
       "                        </td>\n",
       "                        <td style=\"text-align: left;\">\n",
       "                            <strong>Total threads: </strong> 2\n",
       "                        </td>\n",
       "                    </tr>\n",
       "                    <tr>\n",
       "                        <td style=\"text-align: left;\">\n",
       "                            <strong>Dashboard: </strong> <a href=\"http://127.0.0.1:40082/status\" target=\"_blank\">http://127.0.0.1:40082/status</a>\n",
       "                        </td>\n",
       "                        <td style=\"text-align: left;\">\n",
       "                            <strong>Memory: </strong> 5.72 GiB\n",
       "                        </td>\n",
       "                    </tr>\n",
       "                    <tr>\n",
       "                        <td style=\"text-align: left;\">\n",
       "                            <strong>Nanny: </strong> tcp://127.0.0.1:46304\n",
       "                        </td>\n",
       "                        <td style=\"text-align: left;\"></td>\n",
       "                    </tr>\n",
       "                    <tr>\n",
       "                        <td colspan=\"2\" style=\"text-align: left;\">\n",
       "                            <strong>Local directory: </strong> /tmp/ikrommyd/dask-scratch-space/worker-74ausmwb\n",
       "                        </td>\n",
       "                    </tr>\n",
       "\n",
       "                    \n",
       "\n",
       "                    \n",
       "\n",
       "                </table>\n",
       "            </details>\n",
       "            </div>\n",
       "        </div>\n",
       "        \n",
       "        <div style=\"margin-bottom: 20px;\">\n",
       "            <div style=\"width: 24px; height: 24px; background-color: #DBF5FF; border: 3px solid #4CC9FF; border-radius: 5px; position: absolute;\"> </div>\n",
       "            <div style=\"margin-left: 48px;\">\n",
       "            <details>\n",
       "                <summary>\n",
       "                    <h4 style=\"margin-bottom: 0px; display: inline;\">Worker: 3</h4>\n",
       "                </summary>\n",
       "                <table style=\"width: 100%; text-align: left;\">\n",
       "                    <tr>\n",
       "                        <td style=\"text-align: left;\">\n",
       "                            <strong>Comm: </strong> tcp://127.0.0.1:46154\n",
       "                        </td>\n",
       "                        <td style=\"text-align: left;\">\n",
       "                            <strong>Total threads: </strong> 2\n",
       "                        </td>\n",
       "                    </tr>\n",
       "                    <tr>\n",
       "                        <td style=\"text-align: left;\">\n",
       "                            <strong>Dashboard: </strong> <a href=\"http://127.0.0.1:38499/status\" target=\"_blank\">http://127.0.0.1:38499/status</a>\n",
       "                        </td>\n",
       "                        <td style=\"text-align: left;\">\n",
       "                            <strong>Memory: </strong> 5.72 GiB\n",
       "                        </td>\n",
       "                    </tr>\n",
       "                    <tr>\n",
       "                        <td style=\"text-align: left;\">\n",
       "                            <strong>Nanny: </strong> tcp://127.0.0.1:41440\n",
       "                        </td>\n",
       "                        <td style=\"text-align: left;\"></td>\n",
       "                    </tr>\n",
       "                    <tr>\n",
       "                        <td colspan=\"2\" style=\"text-align: left;\">\n",
       "                            <strong>Local directory: </strong> /tmp/ikrommyd/dask-scratch-space/worker-rbv7vzfn\n",
       "                        </td>\n",
       "                    </tr>\n",
       "\n",
       "                    \n",
       "\n",
       "                    \n",
       "\n",
       "                </table>\n",
       "            </details>\n",
       "            </div>\n",
       "        </div>\n",
       "        \n",
       "        <div style=\"margin-bottom: 20px;\">\n",
       "            <div style=\"width: 24px; height: 24px; background-color: #DBF5FF; border: 3px solid #4CC9FF; border-radius: 5px; position: absolute;\"> </div>\n",
       "            <div style=\"margin-left: 48px;\">\n",
       "            <details>\n",
       "                <summary>\n",
       "                    <h4 style=\"margin-bottom: 0px; display: inline;\">Worker: 4</h4>\n",
       "                </summary>\n",
       "                <table style=\"width: 100%; text-align: left;\">\n",
       "                    <tr>\n",
       "                        <td style=\"text-align: left;\">\n",
       "                            <strong>Comm: </strong> tcp://127.0.0.1:42628\n",
       "                        </td>\n",
       "                        <td style=\"text-align: left;\">\n",
       "                            <strong>Total threads: </strong> 2\n",
       "                        </td>\n",
       "                    </tr>\n",
       "                    <tr>\n",
       "                        <td style=\"text-align: left;\">\n",
       "                            <strong>Dashboard: </strong> <a href=\"http://127.0.0.1:38975/status\" target=\"_blank\">http://127.0.0.1:38975/status</a>\n",
       "                        </td>\n",
       "                        <td style=\"text-align: left;\">\n",
       "                            <strong>Memory: </strong> 5.72 GiB\n",
       "                        </td>\n",
       "                    </tr>\n",
       "                    <tr>\n",
       "                        <td style=\"text-align: left;\">\n",
       "                            <strong>Nanny: </strong> tcp://127.0.0.1:34788\n",
       "                        </td>\n",
       "                        <td style=\"text-align: left;\"></td>\n",
       "                    </tr>\n",
       "                    <tr>\n",
       "                        <td colspan=\"2\" style=\"text-align: left;\">\n",
       "                            <strong>Local directory: </strong> /tmp/ikrommyd/dask-scratch-space/worker-t42ucish\n",
       "                        </td>\n",
       "                    </tr>\n",
       "\n",
       "                    \n",
       "\n",
       "                    \n",
       "\n",
       "                </table>\n",
       "            </details>\n",
       "            </div>\n",
       "        </div>\n",
       "        \n",
       "\n",
       "    </details>\n",
       "</div>\n",
       "\n",
       "        </details>\n",
       "    </div>\n",
       "</div>\n",
       "            </details>\n",
       "        \n",
       "\n",
       "    </div>\n",
       "</div>"
      ],
      "text/plain": [
       "<Client: 'tcp://127.0.0.1:39216' processes=5 threads=10, memory=28.60 GiB>"
      ]
     },
     "execution_count": 2,
     "metadata": {},
     "output_type": "execute_result"
    }
   ],
   "source": [
    "from distributed import Client\n",
    "\n",
    "client = Client()\n",
    "\n",
    "# or\n",
    "\n",
    "# from distributed import Client\n",
    "# from lpcjobqueue import LPCCondorCluster\n",
    "\n",
    "# cluster = LPCCondorCluster(ship_env=True)\n",
    "# cluster.adapt(minimum=1, maximum=100)\n",
    "# client = Client(cluster)\n",
    "\n",
    "# to use the condor farm on LPC\n",
    "client"
   ]
  },
  {
   "cell_type": "markdown",
   "id": "44497beb-634d-4473-9bcc-164dc3d5a31f",
   "metadata": {},
   "source": [
    "We now define a `TagNProbe` telling it we want to perform tag and probe over the datasets `\"/EGamma0/Run2023C-PromptNanoAODv12_v3-v1/NANOAOD\"` and `\"EGamma1/Run2023C-PromptNanoAODv12_v3-v1/NANOAOD\"`, using again a Pt threshold of 32 (Ele32 trigger)."
   ]
  },
  {
   "cell_type": "code",
   "execution_count": 3,
   "id": "1bddd184",
   "metadata": {
    "tags": []
   },
   "outputs": [
    {
     "name": "stdout",
     "output_type": "stream",
     "text": [
      "Dataset /EGamma0/Run2023C-PromptNanoAODv12_v3-v1/NANOAOD has 22 files\n",
      "\n",
      "First file of dataset /EGamma0/Run2023C-PromptNanoAODv12_v3-v1/NANOAOD is root://cmsdcadisk.fnal.gov//dcache/uscmsdisk/store/data/Run2023C/EGamma0/NANOAOD/PromptNanoAODv12_v3-v1/80000/07a23138-6960-4b3a-8ef9-c914eb5da6ab.root\n",
      "\n",
      "Last file of dataset /EGamma0/Run2023C-PromptNanoAODv12_v3-v1/NANOAOD is root://cmsdcadisk.fnal.gov//dcache/uscmsdisk/store/data/Run2023C/EGamma0/NANOAOD/PromptNanoAODv12_v3-v1/80000/f3820739-9996-4a32-8662-6f3645008f19.root\n",
      "\n",
      "Dataset /EGamma1/Run2023C-PromptNanoAODv12_v3-v1/NANOAOD has 24 files\n",
      "\n",
      "First file of dataset /EGamma1/Run2023C-PromptNanoAODv12_v3-v1/NANOAOD is root://cmsdcadisk.fnal.gov//dcache/uscmsdisk/store/data/Run2023C/EGamma1/NANOAOD/PromptNanoAODv12_v3-v1/80000/099a180b-12a5-4f11-86c1-1964eb448df8.root\n",
      "\n",
      "Last file of dataset /EGamma1/Run2023C-PromptNanoAODv12_v3-v1/NANOAOD is root://cmsdcadisk.fnal.gov//dcache/uscmsdisk/store/data/Run2023C/EGamma1/NANOAOD/PromptNanoAODv12_v3-v1/80000/f448a619-31fa-41ef-a498-9f7711a6c919.root\n",
      "\n",
      "CPU times: user 2.74 s, sys: 320 ms, total: 3.06 s\n",
      "Wall time: 8.83 s\n"
     ]
    },
    {
     "data": {
      "text/plain": [
       "TagNProbe(Events: dask.awkward<from-uproot, npartitions=46>, Number of files: 46, Golden JSON: ../json/Cert_Collisions2023_366442_368823_Golden.json)"
      ]
     },
     "execution_count": 3,
     "metadata": {},
     "output_type": "execute_result"
    }
   ],
   "source": [
    "%%time\n",
    "\n",
    "tag_n_probe = TagNProbe(\n",
    "    [\n",
    "        \"/EGamma0/Run2023C-PromptNanoAODv12_v3-v1/NANOAOD\",\n",
    "        \"/EGamma1/Run2023C-PromptNanoAODv12_v3-v1/NANOAOD\",\n",
    "    ],\n",
    "    32,\n",
    "    goldenjson=\"../json/Cert_Collisions2023_366442_368823_Golden.json\",\n",
    "    toquery=True,\n",
    "    redirect=False,\n",
    ")\n",
    "\n",
    "tag_n_probe.load_events()\n",
    "tag_n_probe"
   ]
  },
  {
   "cell_type": "markdown",
   "id": "b783015e-4f30-4284-9562-554e7af4c623",
   "metadata": {},
   "source": [
    "The rest from now on is exactly the same."
   ]
  },
  {
   "cell_type": "code",
   "execution_count": 4,
   "id": "aaab6a72",
   "metadata": {
    "tags": []
   },
   "outputs": [
    {
     "name": "stdout",
     "output_type": "stream",
     "text": [
      "[########################################] | 100% Completed | 308.19 ms\n",
      "Passing probes: 634217.0\n",
      "All probes: 743324.0\n",
      "CPU times: user 23.7 s, sys: 2.16 s, total: 25.9 s\n",
      "Wall time: 2min 53s\n"
     ]
    }
   ],
   "source": [
    "%%time\n",
    "\n",
    "(\n",
    "    hpt_pass,\n",
    "    hpt_all,\n",
    "    heta_pass,\n",
    "    heta_all,\n",
    ") = tag_n_probe.get_tnp_histograms(compute=True, scheduler=None, progress=True)\n",
    "\n",
    "print(f\"Passing probes: {hpt_pass.sum(flow=True)}\")\n",
    "print(f\"All probes: {hpt_all.sum(flow=True)}\")"
   ]
  },
  {
   "cell_type": "code",
   "execution_count": 5,
   "id": "752cd13a",
   "metadata": {
    "tags": []
   },
   "outputs": [
    {
     "data": {
      "image/png": "[encoded data removed]",
      "text/plain": [
       "<Figure size 640x480 with 1 Axes>"
      ]
     },
     "metadata": {},
     "output_type": "display_data"
    }
   ],
   "source": [
    "hpt_pass.plot1d(label=\"passing probes\", flow=\"none\")\n",
    "hpt_all.plot1d(label=\"all probes\", flow=\"none\")\n",
    "plt.xlim(5, 400)\n",
    "plt.xlabel(r\"$P_T$ [GeV]\")\n",
    "plt.ylabel(r\"Counts\")\n",
    "plt.legend()\n",
    "hep.cms.label(\"Preliminary\", data=True, lumi=\"X\", year=2023, com=13.6)\n",
    "plt.show()"
   ]
  },
  {
   "cell_type": "code",
   "execution_count": 6,
   "id": "c7a17bf2",
   "metadata": {
    "tags": []
   },
   "outputs": [
    {
     "data": {
      "image/png": "[encoded data removed]",
      "text/plain": [
       "<Figure size 640x480 with 1 Axes>"
      ]
     },
     "metadata": {},
     "output_type": "display_data"
    }
   ],
   "source": [
    "heta_pass.plot1d(label=\"passing probes\", flow=\"none\")\n",
    "heta_all.plot1d(label=\"all probes\", flow=\"none\")\n",
    "plt.xlim(-2.5, 2.5)\n",
    "plt.xlabel(r\"$\\eta$\")\n",
    "plt.ylabel(r\"Counts\")\n",
    "plt.legend()\n",
    "hep.cms.label(\"Preliminary\", data=True, lumi=\"X\", year=2023, com=13.6)\n",
    "plt.show()"
   ]
  },
  {
   "cell_type": "code",
   "execution_count": 7,
   "id": "d9e0c412",
   "metadata": {
    "tags": []
   },
   "outputs": [
    {
     "data": {
      "image/png": "[encoded data removed]",
      "text/plain": [
       "<Figure size 640x480 with 1 Axes>"
      ]
     },
     "metadata": {},
     "output_type": "display_data"
    }
   ],
   "source": [
    "plot_efficiency(hpt_pass, hpt_all)\n",
    "hep.cms.label(\"Preliminary\", data=True, lumi=\"X\", year=2023, com=13.6)\n",
    "plt.xlim(5, 400)\n",
    "plt.xlabel(r\"$P_T$ [GeV]\")\n",
    "plt.ylabel(r\"Efficiency\")\n",
    "plt.xscale(\"log\")\n",
    "plt.show()"
   ]
  },
  {
   "cell_type": "code",
   "execution_count": 8,
   "id": "37e3ba84",
   "metadata": {
    "tags": []
   },
   "outputs": [
    {
     "data": {
      "image/png": "[encoded data removed]",
      "text/plain": [
       "<Figure size 640x480 with 1 Axes>"
      ]
     },
     "metadata": {},
     "output_type": "display_data"
    }
   ],
   "source": [
    "plot_efficiency(heta_pass, heta_all)\n",
    "hep.cms.label(\"Preliminary\", data=True, lumi=\"X\", year=2023, com=13.6)\n",
    "plt.xlim(-2.5, 2.5)\n",
    "plt.xlabel(r\"$\\eta$\")\n",
    "plt.ylabel(r\"Efficiency\")\n",
    "plt.show()"
   ]
  },
  {
   "cell_type": "markdown",
   "id": "23e5cdad-9fc2-43d5-a959-6638e8ba6334",
   "metadata": {},
   "source": [
    "And we have our final efficiency plots for `Run2023C -v3`."
   ]
  }
 ],
 "metadata": {
  "kernelspec": {
   "display_name": "Python 3 (ipykernel)",
   "language": "python",
   "name": "python3"
  },
  "language_info": {
   "codemirror_mode": {
    "name": "ipython",
    "version": 3
   },
   "file_extension": ".py",
   "mimetype": "text/x-python",
   "name": "python",
   "nbconvert_exporter": "python",
   "pygments_lexer": "ipython3",
   "version": "3.8.15"
  }
 },
 "nbformat": 4,
 "nbformat_minor": 5
}
