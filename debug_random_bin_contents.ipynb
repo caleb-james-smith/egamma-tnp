{
 "cells": [
  {
   "cell_type": "code",
   "execution_count": null,
   "id": "c6e56eb1-0599-477a-a4ba-42d2ae50b055",
   "metadata": {
    "tags": []
   },
   "outputs": [],
   "source": [
    "import mplhep as hep\n",
    "import uproot\n",
    "from distributed import Client\n",
    "from egamma_tnp import TagNProbe\n",
    "from egamma_tnp.plot import plot_efficiency\n",
    "from egamma_tnp.utils import fill_eager_pt_and_eta_histograms\n",
    "from matplotlib import pyplot as plt\n",
    "\n",
    "import numpy as np\n",
    "import awkward as ak\n",
    "\n",
    "hep.style.use(\"CMS\")\n",
    "hep.style.use({\"font.size\": 16})\n",
    "hep.style.use({\"figure.figsize\": (6.4, 4.8)})"
   ]
  },
  {
   "cell_type": "code",
   "execution_count": null,
   "id": "aebbd310-988f-44a2-b19e-523b719ea26e",
   "metadata": {
    "tags": []
   },
   "outputs": [],
   "source": [
    "files = [\n",
    "    \"root://cmsdcadisk.fnal.gov//dcache/uscmsdisk/store/data/Run2023C/EGamma0/NANOAOD/PromptNanoAODv12_v2-v2/60000/2c48fec4-a40f-4678-afe6-a524b8210a09.root\",\n",
    "    \"root://cmsdcadisk.fnal.gov//dcache/uscmsdisk/store/data/Run2023C/EGamma0/NANOAOD/PromptNanoAODv12_v2-v2/60000/35dfc17d-7ae0-4e41-ab82-bd4e04ddfbc3.root\",\n",
    "    \"root://cmsdcadisk.fnal.gov//dcache/uscmsdisk/store/data/Run2023C/EGamma0/NANOAOD/PromptNanoAODv12_v2-v2/60000/362576c3-91f0-4419-8df5-9749bb1bd437.root\",\n",
    "    \"root://cmsdcadisk.fnal.gov//dcache/uscmsdisk/store/data/Run2023C/EGamma0/NANOAOD/PromptNanoAODv12_v2-v2/60000/5238c580-44bb-435d-adfa-1706c4eb00a0.root\",\n",
    "    \"root://cmsdcadisk.fnal.gov//dcache/uscmsdisk/store/data/Run2023C/EGamma0/NANOAOD/PromptNanoAODv12_v2-v2/60000/6f651a52-36c0-4b60-8aaa-fead41fcd237.root\",\n",
    "    \"root://cmsdcadisk.fnal.gov//dcache/uscmsdisk/store/data/Run2023C/EGamma0/NANOAOD/PromptNanoAODv12_v2-v2/60000/85ca076d-6253-47ef-becd-50f33fae79fb.root\",\n",
    "    \"root://cmsdcadisk.fnal.gov//dcache/uscmsdisk/store/data/Run2023C/EGamma0/NANOAOD/PromptNanoAODv12_v2-v2/60000/a98a26a0-c106-404e-bd73-92ab931d0745.root\",\n",
    "    \"root://cmsdcadisk.fnal.gov//dcache/uscmsdisk/store/data/Run2023C/EGamma0/NANOAOD/PromptNanoAODv12_v2-v2/60000/e36bd30a-0ce7-4c72-9b38-070640684412.root\",\n",
    "    \"root://cmsdcadisk.fnal.gov//dcache/uscmsdisk/store/data/Run2023C/EGamma1/NANOAOD/PromptNanoAODv12_v2-v2/80000/1b4a46fe-209c-4f59-aaf1-2317e49d8714.root\",\n",
    "    \"root://cmsdcadisk.fnal.gov//dcache/uscmsdisk/store/data/Run2023C/EGamma1/NANOAOD/PromptNanoAODv12_v2-v2/80000/5163629c-f8c0-4926-a3df-d2ba866f6483.root\",\n",
    "    \"root://cmsdcadisk.fnal.gov//dcache/uscmsdisk/store/data/Run2023C/EGamma1/NANOAOD/PromptNanoAODv12_v2-v2/80000/6ba95236-6668-4b48-bad8-53833a838cfa.root\",\n",
    "    \"root://eoscms.cern.ch//eos/cms//store/data/Run2023C/EGamma1/NANOAOD/PromptNanoAODv12_v2-v2/80000/734aed12-7d72-4c80-8543-e7a4f7ffac3d.root\",\n",
    "    \"root://cmsdcadisk.fnal.gov//dcache/uscmsdisk/store/data/Run2023C/EGamma1/NANOAOD/PromptNanoAODv12_v2-v2/80000/a76b1820-eefa-4db9-b65d-0b6e8c6cae6a.root\",\n",
    "    \"root://cmsdcadisk.fnal.gov//dcache/uscmsdisk/store/data/Run2023C/EGamma1/NANOAOD/PromptNanoAODv12_v2-v2/80000/c5b5f4f3-77de-4a5d-b823-e0d141b74d35.root\",\n",
    "    \"root://eoscms.cern.ch//eos/cms//store/data/Run2023C/EGamma1/NANOAOD/PromptNanoAODv12_v2-v2/80000/ce99091b-e0d9-4b4d-ab3f-c45cc82dbb49.root\",\n",
    "    \"root://eoscms.cern.ch//eos/cms//store/data/Run2023C/EGamma1/NANOAOD/PromptNanoAODv12_v2-v2/80000/d2896045-c8a3-49b5-af7c-7098b0ea1d9b.root\",\n",
    "    \"root://eoscms.cern.ch//eos/cms//store/data/Run2023C/EGamma1/NANOAOD/PromptNanoAODv12_v2-v2/80000/d45e45dd-5dd8-4cf3-a03a-141a6ff45d44.root\",\n",
    "]"
   ]
  },
  {
   "cell_type": "code",
   "execution_count": null,
   "id": "57c2066f-c69f-4780-8754-82ff8cbba769",
   "metadata": {
    "tags": []
   },
   "outputs": [],
   "source": [
    "tag_n_probe = TagNProbe(\n",
    "    files,\n",
    "    32,\n",
    "    goldenjson=\"json/Cert_Collisions2023_366442_370790_Golden.json\",\n",
    "    toquery=False,\n",
    "    redirect=False,\n",
    "    preprocess=False,\n",
    "    preprocess_args={\"maybe_step_size\": 100_000},\n",
    ")\n",
    "print(\"Done preprocessing\")\n",
    "\n",
    "print(\"Starting to load events\")\n",
    "tag_n_probe.load_events(\n",
    "    from_root_args={\"uproot_options\": {\"timeout\": 120}, \"chunks_per_file\": 10}\n",
    ")\n",
    "print(tag_n_probe)\n",
    "\n",
    "# from lpcjobqueue import LPCCondorCluster\n",
    "# cluster = LPCCondorCluster(ship_env=True)\n",
    "# cluster.adapt(minimum=1, maximum=100)\n",
    "# client = Client(cluster)\n",
    "client = Client(threads_per_worker=1)\n",
    "\n",
    "res = tag_n_probe.get_tnp_histograms(compute=True, scheduler=None, progress=True)"
   ]
  },
  {
   "cell_type": "code",
   "execution_count": null,
   "id": "f470eb56-ae0e-4518-96dd-0b468a0fad2f",
   "metadata": {},
   "outputs": [],
   "source": [
    "hpt_pass, hpt_all, heta_pass, heta_all = fill_eager_pt_and_eta_histograms(res)"
   ]
  },
  {
   "cell_type": "code",
   "execution_count": null,
   "id": "662eb119-e3f4-4057-92c8-e12d34393b57",
   "metadata": {
    "tags": []
   },
   "outputs": [],
   "source": [
    "hpt_pass, hpt_all, heta_pass, heta_all = res"
   ]
  },
  {
   "cell_type": "code",
   "execution_count": null,
   "id": "7bf5754b-47db-4607-baf2-b25992da2d01",
   "metadata": {
    "tags": []
   },
   "outputs": [],
   "source": [
    "hpt_pass.storage_type"
   ]
  },
  {
   "cell_type": "code",
   "execution_count": null,
   "id": "972f10b6-08dd-4622-8500-bff26a7c7595",
   "metadata": {
    "tags": []
   },
   "outputs": [],
   "source": [
    "print(hpt_pass.values(flow=True))\n",
    "print(hpt_all.values(flow=True))\n",
    "print(heta_pass.values(flow=True))\n",
    "print(heta_all.values(flow=True))\n",
    "\n",
    "print(f\"Passing probes: {hpt_pass.sum(flow=True)}\")\n",
    "print(f\"All probes: {hpt_all.sum(flow=True)}\")"
   ]
  },
  {
   "cell_type": "code",
   "execution_count": null,
   "id": "ec7730f6-a576-4d7a-88e7-2d26c66ccd3b",
   "metadata": {},
   "outputs": [],
   "source": []
  }
 ],
 "metadata": {
  "kernelspec": {
   "display_name": "Python 3 (ipykernel)",
   "language": "python",
   "name": "python3"
  },
  "language_info": {
   "codemirror_mode": {
    "name": "ipython",
    "version": 3
   },
   "file_extension": ".py",
   "mimetype": "text/x-python",
   "name": "python",
   "nbconvert_exporter": "python",
   "pygments_lexer": "ipython3",
   "version": "3.10.12"
  }
 },
 "nbformat": 4,
 "nbformat_minor": 5
}
